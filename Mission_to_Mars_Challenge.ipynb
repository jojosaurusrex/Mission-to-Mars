{
 "cells": [
  {
   "cell_type": "code",
   "execution_count": 1,
   "metadata": {},
   "outputs": [],
   "source": [
    "# Import Splinter, BeautifulSoup, and Pandas\n",
    "from splinter import Browser\n",
    "from bs4 import BeautifulSoup as soup\n",
    "import pandas as pd\n",
    "from webdriver_manager.chrome import ChromeDriverManager"
   ]
  },
  {
   "cell_type": "code",
   "execution_count": 2,
   "metadata": {},
   "outputs": [
    {
     "name": "stderr",
     "output_type": "stream",
     "text": [
      "\n",
      "\n",
      "====== WebDriver manager ======\n",
      "Current google-chrome version is 100.0.4896\n",
      "Get LATEST chromedriver version for 100.0.4896 google-chrome\n",
      "Trying to download new driver from https://chromedriver.storage.googleapis.com/100.0.4896.60/chromedriver_win32.zip\n",
      "Driver has been saved in cache [C:\\Users\\becer\\.wdm\\drivers\\chromedriver\\win32\\100.0.4896.60]\n"
     ]
    }
   ],
   "source": [
    "# Set the executable path and initialize Splinter\n",
    "executable_path = {'executable_path': ChromeDriverManager().install()}\n",
    "browser = Browser('chrome', **executable_path, headless=False)"
   ]
  },
  {
   "cell_type": "markdown",
   "metadata": {},
   "source": [
    "### Visit the NASA Mars News Site"
   ]
  },
  {
   "cell_type": "code",
   "execution_count": 3,
   "metadata": {},
   "outputs": [
    {
     "data": {
      "text/plain": [
       "True"
      ]
     },
     "execution_count": 3,
     "metadata": {},
     "output_type": "execute_result"
    }
   ],
   "source": [
    "# Visit the mars nasa news site\n",
    "url = 'https://redplanetscience.com/'\n",
    "browser.visit(url)\n",
    "\n",
    "# Optional delay for loading the page\n",
    "browser.is_element_present_by_css('div.list_text', wait_time=1)"
   ]
  },
  {
   "cell_type": "code",
   "execution_count": 4,
   "metadata": {},
   "outputs": [],
   "source": [
    "# Convert the browser html to a soup object and then quit the browser\n",
    "html = browser.html\n",
    "news_soup = soup(html, 'html.parser')\n",
    "\n",
    "slide_elem = news_soup.select_one('div.list_text')"
   ]
  },
  {
   "cell_type": "code",
   "execution_count": 5,
   "metadata": {},
   "outputs": [
    {
     "data": {
      "text/plain": [
       "<div class=\"content_title\">A Martian Roundtrip: NASA's Perseverance Rover Sample Tubes</div>"
      ]
     },
     "execution_count": 5,
     "metadata": {},
     "output_type": "execute_result"
    }
   ],
   "source": [
    "slide_elem.find('div', class_='content_title')"
   ]
  },
  {
   "cell_type": "code",
   "execution_count": 6,
   "metadata": {},
   "outputs": [
    {
     "data": {
      "text/plain": [
       "\"A Martian Roundtrip: NASA's Perseverance Rover Sample Tubes\""
      ]
     },
     "execution_count": 6,
     "metadata": {},
     "output_type": "execute_result"
    }
   ],
   "source": [
    "# Use the parent element to find the first a tag and save it as `news_title`\n",
    "news_title = slide_elem.find('div', class_='content_title').get_text()\n",
    "news_title"
   ]
  },
  {
   "cell_type": "code",
   "execution_count": 7,
   "metadata": {},
   "outputs": [
    {
     "data": {
      "text/plain": [
       "\"Marvels of engineering, the rover's sample tubes must be tough enough to safely bring Red Planet samples on the long journey back to Earth in immaculate condition. \""
      ]
     },
     "execution_count": 7,
     "metadata": {},
     "output_type": "execute_result"
    }
   ],
   "source": [
    "# Use the parent element to find the paragraph text\n",
    "news_p = slide_elem.find('div', class_='article_teaser_body').get_text()\n",
    "news_p"
   ]
  },
  {
   "cell_type": "markdown",
   "metadata": {},
   "source": [
    "### JPL Space Images Featured Image"
   ]
  },
  {
   "cell_type": "code",
   "execution_count": 8,
   "metadata": {},
   "outputs": [],
   "source": [
    "# Visit URL\n",
    "url = 'https://spaceimages-mars.com'\n",
    "browser.visit(url)"
   ]
  },
  {
   "cell_type": "code",
   "execution_count": 9,
   "metadata": {},
   "outputs": [],
   "source": [
    "# Find and click the full image button\n",
    "full_image_elem = browser.find_by_tag('button')[1]\n",
    "full_image_elem.click()"
   ]
  },
  {
   "cell_type": "code",
   "execution_count": 10,
   "metadata": {
    "scrolled": true
   },
   "outputs": [
    {
     "data": {
      "text/plain": [
       "<html class=\"\"><head>\n",
       "<meta charset=\"utf-8\"/>\n",
       "<meta content=\"width=device-width, initial-scale=1\" name=\"viewport\"/>\n",
       "<link href=\"https://maxcdn.bootstrapcdn.com/bootstrap/4.0.0/css/bootstrap.min.css\" rel=\"stylesheet\"/>\n",
       "<!-- <link rel=\"stylesheet\" type=\"text/css\" href=\"css/font.css\"> -->\n",
       "<link href=\"css/app.css\" rel=\"stylesheet\" type=\"text/css\"/>\n",
       "<link href=\"https://stackpath.bootstrapcdn.com/font-awesome/4.7.0/css/font-awesome.min.css\" rel=\"stylesheet\" type=\"text/css\"/>\n",
       "<title>Space Image</title>\n",
       "<style type=\"text/css\">.fancybox-margin{margin-right:17px;}</style></head>\n",
       "<body>\n",
       "<div class=\"header\">\n",
       "<nav class=\"navbar navbar-expand-lg\">\n",
       "<a class=\"navbar-brand\" href=\"#\"><img id=\"logo\" src=\"image/nasa.png\"/><span class=\"logo\">Jet Propulsion Laboratory</span>\n",
       "<span class=\"logo1\">California Institute of Technology</span></a>\n",
       "<button aria-controls=\"navbarNav\" aria-expanded=\"false\" aria-label=\"Toggle navigation\" class=\"navbar-toggler\" data-target=\"#navbarNav\" data-toggle=\"collapse\" type=\"button\">\n",
       "<span class=\"navbar-toggler-icon\"></span>\n",
       "</button>\n",
       "<div class=\"collapse navbar-collapse justify-content-end\" id=\"navbarNav\">\n",
       "<ul class=\"navbar-nav\">\n",
       "<li class=\"nav-item active\">\n",
       "<a class=\"nav-link\" href=\"#\"><i aria-hidden=\"true\" class=\"fa fa-bars\"></i>   MENU   <i aria-hidden=\"true\" class=\"fa fa-search\"></i></a>\n",
       "</li>\n",
       "</ul>\n",
       "</div>\n",
       "</nav>\n",
       "<div class=\"floating_text_area\">\n",
       "<h2 class=\"brand_title\">FEATURED IMAGE</h2>\n",
       "<h1 class=\"media_feature_title\">Dusty Space Cloud</h1>\n",
       "<br/>\n",
       "<a class=\"showimg fancybox-thumbs\" href=\"image/featured/mars1.jpg\" target=\"_blank\"> <button class=\"btn btn-outline-light\"> FULL IMAGE</button></a>\n",
       "</div>\n",
       "<img class=\"headerimage fade-in\" src=\"image/featured/mars1.jpg\"/></div>\n",
       "<div class=\"search sticky\">\n",
       "<div class=\"col-md-12\">\n",
       "<div class=\"row\">\n",
       "<div class=\"col-md-6\">\n",
       "<input name=\"Search\" placeholder=\"Search\" type=\"text\"/>\n",
       "</div>\n",
       "<div class=\"col-md-6\">\n",
       "<select aria-label=\"Default select example\" class=\"form-select\" id=\"options\">\n",
       "<option onchange=\"0\" selected=\"\">Mars</option>\n",
       "<!-- <option data-filter=\"sun\" class=\"button\">Mars</option> -->\n",
       "<option class=\"button\" data-filter=\"Sun\">Sun</option>\n",
       "<option class=\"button\" data-filter=\"earth\">Earth</option>\n",
       "<option class=\"button\" data-filter=\"ida\">Ida</option>\n",
       "<option class=\"button\" data-filter=\"jupiter\">Jupiter</option>\n",
       "<option class=\"button\" data-filter=\"venus\">Venus</option>\n",
       "</select>\n",
       "</div>\n",
       "</div>\n",
       "</div>\n",
       "</div>\n",
       "<div class=\"container mt-5\">\n",
       "<div class=\"col-md-12\">\n",
       "<div class=\"row\">\n",
       "<div class=\"col-md-6\">\n",
       "<h1>Images</h1>\n",
       "</div>\n",
       "<div class=\"col-md-6\" id=\"icon\">\n",
       "<div class=\"icon2\"></div>\n",
       "<div class=\"icon1\"></div>\n",
       "</div>\n",
       "</div>\n",
       "</div>\n",
       "<!-- first div -->\n",
       "<div class=\"div1\" id=\"filter\">\n",
       "<div class=\"thmbgroup\"><a class=\"fancybox-thumbs\" data-fancybox-group=\"thumb\" href=\"image/mars/Icaria Fossae7.jpg\"><div class=\"thmb\"><img alt=\"\" class=\"thumbimg\" src=\"image/mars/Icaria Fossae7.jpg\"/><p class=\"thumbcontent\">January 1, 2020<br/>Icaria Fossae7</p></div></a><a class=\"fancybox-thumbs\" data-fancybox-group=\"thumb\" href=\"image/mars/Proctor Crater Dunes 7.jpg\"><div class=\"thmb\"><img alt=\"\" class=\"thumbimg\" src=\"image/mars/Proctor Crater Dunes 7.jpg\"/><p class=\"thumbcontent\">December 31, 2020<br/>Proctor Crater Dunes</p></div></a><a class=\"fancybox-thumbs\" data-fancybox-group=\"thumb\" href=\"image/mars/Icaria Fossae7.jpg\"><div class=\"thmb\"><img alt=\"\" class=\"thumbimg\" src=\"image/mars/Icaria Fossae7.jpg\"/><p class=\"thumbcontent\">December 31, 2020<br/>Icaria Fossae</p></div></a><a class=\"fancybox-thumbs\" data-fancybox-group=\"thumb\" href=\"image/mars/Proctor Crater Dunes 7.jpg\"><div class=\"thmb\"><img alt=\"\" class=\"thumbimg\" src=\"image/mars/Proctor Crater Dunes 7.jpg\"/><p class=\"thumbcontent\">December 29, 2020<br/>Proctor Crater Dunes</p></div></a><a class=\"fancybox-thumbs\" data-fancybox-group=\"thumb\" href=\"image/mars/Proctor Crater Dunes 7.jpg\"><div class=\"thmb\"><img alt=\"\" class=\"thumbimg\" src=\"image/mars/Proctor Crater Dunes 7.jpg\"/><p class=\"thumbcontent\">December 28, 2020<br/>roctor Crater Dunes</p></div></a><a class=\"fancybox-thumbs\" data-fancybox-group=\"thumb\" href=\"image/mars/Icaria Fossae7.jpg\"><div class=\"thmb\"><img alt=\"\" class=\"thumbimg\" src=\"image/mars/Icaria Fossae7.jpg\"/><p class=\"thumbcontent\">December 22, 2020<br/>Icaria Fossae</p></div></a><a class=\"fancybox-thumbs\" data-fancybox-group=\"thumb\" href=\"image/mars/Icaria Fossae.jpg\"><div class=\"thmb\"><img alt=\"\" class=\"thumbimg\" src=\"image/mars/Icaria Fossae.jpg\"/><p class=\"thumbcontent\">December 21, 2020<br/>Icaria Fossae</p></div></a><a class=\"fancybox-thumbs\" data-fancybox-group=\"thumb\" href=\"image/mars/Ariadnes Colles4.jpg\"><div class=\"thmb\"><img alt=\"\" class=\"thumbimg\" src=\"image/mars/Ariadnes Colles4.jpg\"/><p class=\"thumbcontent\">December 18, 2020<br/>Ariadnes Colles</p></div></a><a class=\"fancybox-thumbs\" data-fancybox-group=\"thumb\" href=\"image/mars/Niger Vallis.jpg\"><div class=\"thmb\"><img alt=\"\" class=\"thumbimg\" src=\"image/mars/Niger Vallis.jpg\"/><p class=\"thumbcontent\">December 17, 2020<br/>Niger Vallis</p></div></a><a class=\"fancybox-thumbs\" data-fancybox-group=\"thumb\" href=\"image/mars/Proctor Crater Dunes.jpg\"><div class=\"thmb\"><img alt=\"\" class=\"thumbimg\" src=\"image/mars/Proctor Crater Dunes.jpg\"/><p class=\"thumbcontent\">December 16, 2020<br/>Proctor Crater Dunes</p></div></a><a class=\"fancybox-thumbs\" data-fancybox-group=\"thumb\" href=\"image/mars/Niger Vallis.jpg\"><div class=\"thmb\"><img alt=\"\" class=\"thumbimg\" src=\"image/mars/Niger Vallis.jpg\"/><p class=\"thumbcontent\">December 15, 2020<br/>Niger Vallis</p></div></a><a class=\"fancybox-thumbs\" data-fancybox-group=\"thumb\" href=\"image/mars/Daedalia Planum.jpg\"><div class=\"thmb\"><img alt=\"\" class=\"thumbimg\" src=\"image/mars/Daedalia Planum.jpg\"/><p class=\"thumbcontent\">December 11, 2020<br/>Daedalia Planum</p></div></a><a class=\"fancybox-thumbs\" data-fancybox-group=\"thumb\" href=\"image/mars/Sirenum Fossae.jpg\"><div class=\"thmb\"><img alt=\"\" class=\"thumbimg\" src=\"image/mars/Sirenum Fossae.jpg\"/><p class=\"thumbcontent\">November,11, 2020<br/>Sirenum Fossae</p></div></a><a class=\"fancybox-thumbs\" data-fancybox-group=\"thumb\" href=\"image/mars/Ariadnes Colles4.jpg\"><div class=\"thmb\"><img alt=\"\" class=\"thumbimg\" src=\"image/mars/Ariadnes Colles4.jpg\"/><p class=\"thumbcontent\">November,13, 2020<br/>Ariadnes Colles</p></div></a><a class=\"fancybox-thumbs\" data-fancybox-group=\"thumb\" href=\"image/mars/South Polar Cap.jpg\"><div class=\"thmb\"><img alt=\"\" class=\"thumbimg\" src=\"image/mars/South Polar Cap.jpg\"/><p class=\"thumbcontent\">November,14, 2020<br/>South Polar Cap</p></div></a><a class=\"fancybox-thumbs\" data-fancybox-group=\"thumb\" href=\"image/mars/Daedalia Planum.jpg\"><div class=\"thmb\"><img alt=\"\" class=\"thumbimg\" src=\"image/mars/Daedalia Planum.jpg\"/><p class=\"thumbcontent\">November,17, 2020<br/>Daedalia Planum</p></div></a><a class=\"fancybox-thumbs\" data-fancybox-group=\"thumb\" href=\"image/mars/Ariadnes Colles3.jpg\"><div class=\"thmb\"><img alt=\"\" class=\"thumbimg\" src=\"image/mars/Ariadnes Colles3.jpg\"/><p class=\"thumbcontent\">November,11, 2020<br/>Ariadnes Colles</p></div></a><a class=\"fancybox-thumbs\" data-fancybox-group=\"thumb\" href=\"image/mars/Atlantis Chaos.jpg\"><div class=\"thmb\"><img alt=\"\" class=\"thumbimg\" src=\"image/mars/Atlantis Chaos.jpg\"/><p class=\"thumbcontent\">November,09, 2020<br/>Atlantis Chaos</p></div></a><a class=\"fancybox-thumbs\" data-fancybox-group=\"thumb\" href=\"image/mars/Daedalia Planum.jpg\"><div class=\"thmb\"><img alt=\"\" class=\"thumbimg\" src=\"image/mars/Daedalia Planum.jpg\"/><p class=\"thumbcontent\">January 1, 2020<br/>Daedalia Planum</p></div></a><a class=\"fancybox-thumbs\" data-fancybox-group=\"thumb\" href=\"image/mars/Icaria Fossae.jpg\"><div class=\"thmb\"><img alt=\"\" class=\"thumbimg\" src=\"image/mars/Icaria Fossae.jpg\"/><p class=\"thumbcontent\">January 1, 2020<br/>Icaria Fossae</p></div></a><a class=\"fancybox-thumbs\" data-fancybox-group=\"thumb\" href=\"image/mars/Niger Vallis.jpg\"><div class=\"thmb\"><img alt=\"\" class=\"thumbimg\" src=\"image/mars/Niger Vallis.jpg\"/><p class=\"thumbcontent\">January 1, 2020<br/>Niger Vallis</p></div></a><a class=\"fancybox-thumbs\" data-fancybox-group=\"thumb\" href=\"image/mars/Proctor Crater Dunes.jpg\"><div class=\"thmb\"><img alt=\"\" class=\"thumbimg\" src=\"image/mars/Proctor Crater Dunes.jpg\"/><p class=\"thumbcontent\">January 1, 2020<br/>Proctor Crater Dunes</p></div></a><a class=\"fancybox-thumbs\" data-fancybox-group=\"thumb\" href=\"image/mars/Reull Vallis.jpg\"><div class=\"thmb\"><img alt=\"\" class=\"thumbimg\" src=\"image/mars/Reull Vallis.jpg\"/><p class=\"thumbcontent\">January 1, 2020<br/>Reull Vallis</p></div></a><a class=\"fancybox-thumbs\" data-fancybox-group=\"thumb\" href=\"image/mars/Ariadnes Colles3.jpg\"><div class=\"thmb\"><img alt=\"\" class=\"thumbimg\" src=\"image/mars/Ariadnes Colles3.jpg\"/><p class=\"thumbcontent\">January 1, 2020<br/>Ariadnes Colles</p></div></a><a class=\"fancybox-thumbs\" data-fancybox-group=\"thumb\" href=\"image/mars/Sirenum Fossae.jpg\"><div class=\"thmb\"><img alt=\"\" class=\"thumbimg\" src=\"image/mars/Sirenum Fossae.jpg\"/><p class=\"thumbcontent\">January 1, 2020<br/>Sirenum Fossae</p></div></a><a class=\"fancybox-thumbs\" data-fancybox-group=\"thumb\" href=\"image/mars/South Polar Cap.jpg\"><div class=\"thmb\"><img alt=\"\" class=\"thumbimg\" src=\"image/mars/South Polar Cap.jpg\"/><p class=\"thumbcontent\">January 1, 2020<br/>South Polar Cap</p></div></a><a class=\"fancybox-thumbs\" data-fancybox-group=\"thumb\" href=\"image/mars/Niger Vallis.jpg\"><div class=\"thmb\"><img alt=\"\" class=\"thumbimg\" src=\"image/mars/Niger Vallis.jpg\"/><p class=\"thumbcontent\">January 1, 2020<br/>Niger Vallis</p></div></a><a class=\"fancybox-thumbs\" data-fancybox-group=\"thumb\" href=\"image/mars/Daedalia Planum.jpg\"><div class=\"thmb\"><img alt=\"\" class=\"thumbimg\" src=\"image/mars/Daedalia Planum.jpg\"/><p class=\"thumbcontent\">January 1, 2020<br/>Daedalia Planum</p></div></a><a class=\"fancybox-thumbs\" data-fancybox-group=\"thumb\" href=\"image/mars/Icaria Fossae.jpg\"><div class=\"thmb\"><img alt=\"\" class=\"thumbimg\" src=\"image/mars/Icaria Fossae.jpg\"/><p class=\"thumbcontent\">January 1, 2020<br/>Icaria Fossae</p></div></a><a class=\"fancybox-thumbs\" data-fancybox-group=\"thumb\" href=\"image/mars/Ariadnes Colles4.jpg\"><div class=\"thmb\"><img alt=\"\" class=\"thumbimg\" src=\"image/mars/Ariadnes Colles4.jpg\"/><p class=\"thumbcontent\">January 1, 2020<br/>Ariadnes Colles</p></div></a><a class=\"fancybox-thumbs\" data-fancybox-group=\"thumb\" href=\"image/mars/South Polar Cap.jpg\"><div class=\"thmb\"><img alt=\"\" class=\"thumbimg\" src=\"image/mars/South Polar Cap.jpg\"/><p class=\"thumbcontent\">January 1, 2020<br/>South Polar Cap</p></div></a><a class=\"fancybox-thumbs\" data-fancybox-group=\"thumb\" href=\"image/mars/Daedalia Planum.jpg\"><div class=\"thmb\"><img alt=\"\" class=\"thumbimg\" src=\"image/mars/Daedalia Planum.jpg\"/><p class=\"thumbcontent\">January 1, 2020<br/>Daedalia Planum</p></div></a></div>\n",
       "</div>\n",
       "<!-- first div ends -->\n",
       "<!-- second div starts -->\n",
       "<div class=\"col-md-12 grid-margin\" id=\"column\">\n",
       "<ul class=\"post-list\">\n",
       "<li class=\"post-heading\"></li>\n",
       "</ul>\n",
       "</div>\n",
       "<!-- second div starts -->\n",
       "</div>\n",
       "<div class=\"first imgcontainer mt-3\">\n",
       "<div class=\"col-md-12\">\n",
       "<div class=\"row\">\n",
       "<div class=\"col-md-3\">\n",
       "<img id=\"pic\" src=\"\"/>\n",
       "</div>\n",
       "</div>\n",
       "</div>\n",
       "</div>\n",
       "<!-- end -->\n",
       "<div class=\"module_gallery container\">\n",
       "<div class=\"col-md-12\">\n",
       "<div class=\"row\">\n",
       "<div class=\"col-md-6\">\n",
       "<div class=\"card\">\n",
       "<img alt=\"Card image cap\" class=\"card-img-top\" src=\"https://www.jpl.nasa.gov/assets/images/content/tmp/images/jpl_photojournal(3x1).jpg\"/>\n",
       "<div class=\"card-body\">\n",
       "<h5 class=\"card-title\">JPL Photojournal</h5>\n",
       "<p class=\"card-text\">Access to the full library of publicly released images from various Solar System exploration programs</p>\n",
       "</div>\n",
       "</div>\n",
       "</div>\n",
       "<div class=\"col-md-6\">\n",
       "<div class=\"card\">\n",
       "<img alt=\"Card image cap\" class=\"card-img-top\" src=\"https://www.jpl.nasa.gov/assets/images/content/tmp/images/nasa_images(3x1).jpg\"/>\n",
       "<div class=\"card-body\">\n",
       "<h5 class=\"card-title\">Great images in NASA</h5>\n",
       "<p class=\"card-text\">A selection of the best-known images from a half-century of exploration and discovery</p>\n",
       "</div>\n",
       "</div>\n",
       "</div>\n",
       "</div>\n",
       "</div>\n",
       "</div>\n",
       "<div class=\"multi_teaser\">\n",
       "<div class=\"container\">\n",
       "<h1>You Might Also Like</h1>\n",
       "<div class=\"col-md-12 mt-5\">\n",
       "<div class=\"row\">\n",
       "<div class=\"col-md-4\">\n",
       "<div class=\"card\">\n",
       "<img alt=\"Card image cap\" class=\"card-img-top\" src=\"https://imagecache.jpl.nasa.gov/images/640x350/C1-PIA24304---CatScanMars-16-640x350.gif\"/>\n",
       "<div class=\"card-body\">\n",
       "<p class=\"card-text\">Access to the full library of publicly released images from various Solar System exploration programs</p>\n",
       "</div>\n",
       "</div>\n",
       "</div>\n",
       "<div class=\"col-md-4\">\n",
       "<div class=\"card\">\n",
       "<img alt=\"Card image cap\" class=\"card-img-top\" src=\"https://imagecache.jpl.nasa.gov/images/640x350/PIA23491-16-640x350.jpg\"/>\n",
       "<div class=\"card-body\">\n",
       "<p class=\"card-text\">Access to the full library of publicly released images from various Solar System exploration programs</p>\n",
       "</div>\n",
       "</div>\n",
       "</div>\n",
       "<div class=\"col-md-4\">\n",
       "<div class=\"card\">\n",
       "<img alt=\"Card image cap\" class=\"card-img-top\" src=\"https://imagecache.jpl.nasa.gov/images/640x350/C1-PIA23180-16-640x350.gif\"/>\n",
       "<div class=\"card-body\">\n",
       "<p class=\"card-text\">Access to the full library of publicly released images from various Solar System exploration programs</p>\n",
       "</div>\n",
       "</div>\n",
       "</div>\n",
       "</div>\n",
       "</div>\n",
       "</div>\n",
       "</div>\n",
       "<div class=\"footer\">\n",
       "<div class=\"container\">\n",
       "<div class=\"col-md-12\">\n",
       "<div class=\"row\">\n",
       "<div class=\"col-md-3\">\n",
       "<h4>About JPL</h4>\n",
       "<ul>\n",
       "<li>About JPL</li>\n",
       "<li>JPL Vision</li>\n",
       "<li>Executive Council</li>\n",
       "<li>History</li>\n",
       "</ul>\n",
       "</div>\n",
       "<div class=\"col-md-3\">\n",
       "<h4>Education</h4>\n",
       "<ul>\n",
       "<li>Intern</li>\n",
       "<li>Learn</li>\n",
       "<li>Teach</li>\n",
       "<li>News</li>\n",
       "</ul>\n",
       "</div>\n",
       "<div class=\"col-md-3\">\n",
       "<h4>Our Sites</h4>\n",
       "<ul>\n",
       "<li>Asteroid Watch</li>\n",
       "<li>Basics of Spaceflight</li>\n",
       "<li>Cassini - Mission to Saturn</li>\n",
       "<li>Climate Kids</li>\n",
       "</ul>\n",
       "</div>\n",
       "<div class=\"col-md-3\">\n",
       "<h4>Galleries</h4>\n",
       "<ul>\n",
       "<li>JPL Space Images</li>\n",
       "<li>Videos</li>\n",
       "<li>Infographics</li>\n",
       "<li>Photojournal</li>\n",
       "</ul>\n",
       "</div>\n",
       "</div>\n",
       "</div>\n",
       "</div>\n",
       "</div>\n",
       "<!--<div class=\"showFullimage\">\n",
       "\t<button class=\"btn btn-outline-light hideimage\" onclick=hideimage()> Close</button>\n",
       "\t<img class=\"fullimage fade-in\" src=\"\">\n",
       "</div>-->\n",
       "<!-- <script src=\"js/jquery.easeScroll.js\"></script>  -->\n",
       "<script src=\"js/jquery-3.5.1.min.js\"></script>\n",
       "<!-- <script src=\"js/jquery-3.2.1.slim.min.js\"></script> -->\n",
       "<script src=\"js/demo.js\"></script>\n",
       "<!-- <script src=\"js/app.js\"></script> -->\n",
       "<script src=\"https://cdnjs.cloudflare.com/ajax/libs/popper.js/1.12.9/umd/popper.min.js\"></script>\n",
       "<script src=\"https://maxcdn.bootstrapcdn.com/bootstrap/4.0.0/js/bootstrap.min.js\"></script>\n",
       "<script src=\"js/fancyBox/jquery.fancybox.pack.js?v=2.1.5\" type=\"text/javascript\"></script>\n",
       "<link href=\"js/fancyBox/jquery.fancybox.css?v=2.1.5\" media=\"screen\" rel=\"stylesheet\" type=\"text/css\"/>\n",
       "<link href=\"js/fancyBox/helpers/jquery.fancybox-thumbs.css?v=1.0.7\" rel=\"stylesheet\" type=\"text/css\"/>\n",
       "<script src=\"js/fancyBox/helpers/jquery.fancybox-thumbs.js?v=1.0.7\" type=\"text/javascript\"></script>\n",
       "<style>a[href^=\"https://a.montangop.top/\"],div[class^=\"AdItem-\"],a[data-url^=\"http://paid.outbrain.com/network/redir?\"],a[href^=\"http://uploaded.net/ref/\"],a[href^=\"https://trusted-click-host.com/\"],a[href^=\"http://secure.cbdpure.com/aff/\"],[id^=\"bunyad_ads_\"],div[class^=\"adUnit_\"],a[href^=\"https://ttf.trmobc.com/\"],[href^=\"https://www.targetingpartner.com/\"],LEADERBOARD-AD,a[href^=\"https://aweptjmp.com/\"],a[href^=\"http://www.ragazzeinvendita.com/?rcid=\"],div[id^=\"ad-div-\"],a[href^=\"http://www.fonts.com/BannerScript/\"],a[href^=\"https://frameworkdeserve.com/\"],a[onmousedown^=\"this.href='http://paid.outbrain.com/network/redir?\"][target=\"_blank\"] + .ob_source,a[href^=\"https://ausoafab.net/\"],a[href^=\"https://join.virtualtaboo.com/track/\"],[href^=\"https://shiftnetwork.infusionsoft.com/go/\"] > img,a[href^=\"http://www.TwinPlan.com/AF_\"],a[href^=\"https://cpartner.bdswiss.com/\"],a[href^=\"http://clicks.binarypromos.com/\"],div[id^=\"vuukle-ad-\"],a[href^=\"https://vo2.qrlsx.com/\"],a[href^=\"http://spygasm.com/track?\"],a[onmousedown^=\"this.href='https://paid.outbrain.com/network/redir?\"][target=\"_blank\"] + .ob_source,[href^=\"http://join.hardcoreshemalevideo.com/\"],a[href^=\"http://k2s.cc/pr/\"],div[id^=\"div-ads-\"],a[href^=\"https://www.mypornstarcams.com/landing/click/\"],a[href^=\"http://semi-cod.com/clicks/\"],div[id^=\"traffective-ad-\"],a[href^=\"https://chaturbate.com/in/?tour=\"],a[href^=\"https://adhealers.com/\"],div[class^=\"ads-partner-\"],iframe[id^=\"google_ads_frame\"],a[href^=\"https://farm.plista.com/pets\"],div[class^=\"AdCard_\"],div[id^=\"ad-gpt-\"],[class*=\"__adv-block\"],a[href^=\"https://bnsjb1ab1e.com/\"],a[href^=\"http://refpa.top/\"],a[href^=\"https://pubads.g.doubleclick.net/\"],a[href^=\"https://porndeals.com/?track=\"],a[href^=\"http://www.FriendlyDuck.com/\"],a[href^=\"https://weedzy.co.uk/\"][href*=\"&utm_\"],a[href^=\"https://cpmspace.com/\"],a[href^=\"https://ak.hetaruwg.com/\"],div[class^=\"articleAdUnitMPU_\"],a[href^=\"https://bestcond1tions.com/\"],a[href^=\"https://www.iyalc.com/\"],div[id^=\"js-dfp-\"],a[href^=\"http://www.mysuperpharm.com/\"],a[href^=\"http://www.affiliates1128.com/processing/\"],[href^=\"/admdownload.php\"],a[href^=\"http://adserver.adreactor.com/\"],a[href^=\"http://secure.hostgator.com/~affiliat/\"],a[href^=\"https://betway.com/\"][href*=\"&a=\"],a[href^=\"https://aff-ads.stickywilds.com/\"],a[href^=\"https://traffdaq.com/\"],a[href^=\"http://www.xmediaserve.com/\"],[id*=\"MGWrap\"],a[href^=\"https://members.linkifier.com/public/affiliateLanding?refCode=\"],a[href^=\"http://ethfw0370q.com/\"],div[class^=\"index__adWrapper\"],a[href^=\"https://cagothie.net/\"],a[href^=\"http://www.fbooksluts.com/\"],div[data-adname],a[href^=\"https://iac.ampxdirect.com/\"],a[href^=\"http://xads.zedo.com/\"],a[href^=\"http://track.trkvluum.com/\"],a[href^=\"http://www.mrskin.com/tour\"],a[href^=\"https://track.totalav.com/\"],a[href^=\"http://affiliates.thrixxx.com/\"],div[id^=\"advads_\"],a[href^=\"http://at.atwola.com/\"],span[data-component-type=\"s-ads-metrics\"],a[href^=\"https://www.vfreecams.com/in/?track=\"],a[href^=\"http://www.firstload.de/affiliate/\"],a[href^=\"https://mk-cdn.net/\"],a[href^=\"https://www.adultempire.com/\"][href*=\"?partner_id=\"],a[href^=\"http://cdn3.adexprts.com/\"],a[href^=\"http://lp.ezdownloadpro.info/\"],a[href^=\"http://imads.integral-marketing.com/\"],a[href^=\"https://see.kmisln.com/\"],div[data-role=\"sidebarAd\"],a[href^=\"http://www.hibids10.com/\"],a[href^=\"https://tc.tradetracker.net/\"] > img,a[href^=\"http://stateresolver.link/\"],a[href^=\"https://mediaserver.gvcaffiliates.com/renderBanner.do?\"],a[href^=\"https://graizoah.com/\"],a[href^=\"https://porntubemate.com/\"],a[href^=\"http://fsoft4down.com/\"],[href^=\"https://go.astutelinks.com/\"],a[href^=\"https://go.xxxjmp.com\"],a[href^=\"http://www.text-link-ads.com/\"],a[href^=\"https://prf.hn/click/\"][href*=\"/camref:\"] > img,div[class^=\"kiwi-ad-wrapper\"],a[href^=\"https://promo-bc.com/\"],a[href^=\"http://adf.ly/?id=\"],div[id^=\"div-gpt-\"],a[href^=\"https://go.ad2up.com/\"],a[href^=\"https://windscribe.com/promo/\"],a[href^=\"http://databass.info/\"],a[href^=\"https://gogoman.me/\"],a[href^=\"http://fusionads.net\"],a[href^=\"http://deloplen.com/\"],div[id^=\"zergnet-widget\"],a[href^=\"https://www.rabbits.webcam/?id=\"],a[href^=\"https://track.afftck.com/\"],a[href^=\"http://www.idownloadplay.com/\"],a[href^=\"https://pcm.bannerator.com/\"],a[href^=\"https://www.bebi.com\"],a[href^=\"https://delivery.porn.com/\"],a[href^=\"https://wittered-mainging.com/\"],a[href^=\"http://galleries.securewebsiteaccess.com/\"],a[href^=\"http://campaign.bharatmatrimony.com/track/\"],a[href^=\"https://www.bet365.com/\"][href*=\"affiliate=\"],a[href^=\"https://go.currency.com/\"],a[href^=\"http://www.urmediazone.com/signup\"],a[href^=\"https://join.sexworld3d.com/track/\"],a[href^=\"http://xtgem.com/click?\"],a[href^=\"https://meet-sexhere.com/\"],a[href^=\"http://ad-emea.doubleclick.net/\"],a[href^=\"http://record.betsafe.com/\"],div[data-test-id=\"AdDisplayWrapper\"],[href^=\"http://join.ts-dominopresley.com/\"],a[href^=\"http://lp.ncdownloader.com/\"],a[href^=\"//lambingsyddir.com/\"],[href^=\"https://go.4rabettraff.com/\"],a[href^=\"http://feedads.g.doubleclick.net/\"],[href^=\"https://join.girlsoutwest.com/\"],a[href^=\"https://ads.ad4game.com/\"],a[href^=\"https://webroutetrk.com/\"],a[href^=\"https://refpaano.host/\"],a[href^=\"https://go.hpyjmp.com/\"],a[href^=\"https://track.themadtrcker.com/\"],ADS-RIGHT,a[href^=\"https://msecure117.com/\"],FBS-AD,a[href^=\"https://uncensored3d.com/\"],[href^=\"http://go.cm-trk2.com/\"],a[href^=\"http://www.friendlyquacks.com/\"],a[href^=\"https://www.brazzersnetwork.com/landing/\"],a[href*=\".incontro-veloce.com/\"],a[href^=\"https://dynamicadx.com/\"],a[href^=\"https://fast-redirecting.com/\"],a[href^=\"https://misspkl.com/\"],a[href^=\"http://mob1ledev1ces.com/\"],a[href^=\"//syndication.dynsrvtbg.com/\"],a[href^=\"https://syndication.dynsrvtbg.com/\"],a[href^=\"https://go.cmrdr.com/\"],a[href^=\"http://searchtabnew.com/\"],div[data-subscript=\"Advertising\"],div[id^=\"gtm-ad-\"],a[href^=\"https://awejmp.com/\"],a[href^=\"https://gghf.mobi/\"],a[href^=\"https://trk.moviesflix4k.xyz/\"],div[class^=\"AdEmbeded__AddWrapper\"],a[href^=\"https://serve.awmdelivery.com/\"],div[class^=\"Component-dfp-\"],a[href^=\"http://www.fpcTraffic2.com/blind/in.cgi?\"],[href^=\"http://advertisesimple.info/\"],a[href^=\"http://affiliate.glbtracker.com/\"],a[href^=\"https://track.52zxzh.com/\"],a[href^=\"https://earandmarketing.com/\"],div[class^=\"Ad__adContainer\"],a[href^=\"http://paid.outbrain.com/network/redir?\"],a[href^=\"http://pan.adraccoon.com?\"],a[href^=\"http://vinfdv6b4j.com/\"],a[href^=\"http://campeeks.com/\"][href*=\"&utm_\"],a[href^=\"https://clickadilla.com/\"],a[href^=\"http://sharesuper.info/\"],a[href^=\"https://fleshlight.sjv.io/\"],div[id^=\"sticky_ad_\"],a[href^=\"http://axdsz.pro/\"],a[href^=\"http://tc.tradetracker.net/\"] > img,div[class^=\"local-feed-banner-ads\"],a[href^=\"http://greensmoke.com/\"],a[href^=\"https://a.bestcontentfood.top/\"],a[href^=\"https://tracking.comfortclick.eu/\"],a[href^=\"http://web.adblade.com/\"],[id^=\"ad_sky\"],a[href^=\"https://lead1.pl/\"],div[class^=\"pane-google-admanager-\"],a[href^=\"http://www.friendlyduck.com/AF_\"],a[href^=\"http://ad.doubleclick.net/\"],[id^=\"bunyad-widget-ads-\"],div[class^=\"index_adAfterContent_\"],div[id^=\"ad_rect_\"],div[class^=\"adbanner_\"],a[href^=\"http://bluehost.com/track/\"],div[class^=\"s-dfp-\"],a[href^=\"https://ad.atdmt.com/\"],div[class^=\"Ad__bigBox\"],a[href^=\"http://elitefuckbook.com/\"],[onclick*=\"content.ad/\"],[href^=\"https://glersakr.com/\"],a[href*=\".trust.zone\"],a[href^=\"http://campaign.bharatmatrimony.com/cbstrack/\"],a[href^=\"https://ads.cdn.live/\"],a[href^=\"https://www.spyoff.com/\"],div[class^=\"adsbutt_wrapper_\"],a[href^=\"http://www.adultdvdempire.com/?partner_id=\"][href*=\"&utm_\"],div[class^=\"adunit_\"],a[href^=\"https://landing1.brazzersnetwork.com\"],a[href^=\"https://maymooth-stopic.com/\"],a[href^=\"https://ptapjmp.com/\"],a[href^=\"http://t.wowtrk.com/\"],a[href^=\"http://www.pinkvisualpad.com/?revid=\"],[lazy-ad=\"lefttop_banner\"],a[href^=\"https://rev.adsession.com/\"],a[href^=\"http://www.bet365.com/\"][href*=\"affiliate=\"],a[href^=\"http://www.clkads.com/adServe/\"],a[href^=\"http://us.marketgid.com\"],div[class^=\"largeRectangleAd_\"],a[href*=\".medgoodfood.com/\"],a[href^=\"http://www.badoink.com/go.php?\"],[data-ad-module],[href*=\".engine.adglare.net/\"],a[href^=\"http://click.payserve.com/\"],a[href^=\"http://download-performance.com/\"],a[href^=\"https://syndication.exoclick.com/\"],div[class^=\"block-openx-\"],[lazy-ad=\"leftthin_banner\"],a[href^=\"http://www.dealcent.com/register.php?affid=\"],a[href^=\"http://ucam.xxx/?utm_\"],a[href^=\"http://googleads.g.doubleclick.net/pcs/click\"],a[href^=\"http://linksnappy.com/?ref=\"],a[href^=\"https://as.sexad.net/\"],div[data-content=\"Advertisement\"],a[href^=\"https://t.mobtya.com/\"],a[href^=\"https://adserver.adreactor.com/\"],a[href^=\"https://mob1ledev1ces.com/\"],a[href^=\"//benoopto.com/\"],a[href^=\"http://cwcams.com/landing/click/\"],a[href^=\"http://bs.serving-sys.com/\"],a[href^=\"https://albionsoftwares.com/\"],a[href^=\"http://www.liutilities.com/\"],a[href^=\"http://go.mobisla.com/\"],a[href^=\"http://adserver.adtech.de/\"],[href^=\"https://join3.bannedsextapes.com\"],a[href^=\"https://chaturbate.com/affiliates/\"],a[href^=\"https://www.sugarinstant.com/?partner_id=\"],a[href^=\"https://a.adtng.com/\"],a[href^=\"https://www.get-express-vpn.com/offer/\"],[href^=\"/ucdownload.php\"],a[href^=\"http://get.slickvpn.com/\"],[class*=\"__adspot-title-container\"],a[href^=\"https://go.hpyrdr.com/\"],a[href^=\"http://360ads.go2cloud.org/\"],a[href^=\"https://affiliate.geekbuying.com/gkbaffiliate.php?\"],a[href^=\"https://go.etoro.com/\"] > img,a[href^=\"http://www.gfrevenge.com/landing/\"],a[href^=\"http://www.onwebcam.com/random?t_link=\"],a[href^=\"https://trklvs.com/\"],div[class^=\"index_displayAd_\"],a[href^=\"https://track.trkinator.com/\"],[href^=\"https://rapidgator.net/article/premium/ref/\"],a[href^=\"https://keep2share.cc/pr/\"],a[href^=\"http://anonymous-net.com/\"],a[href^=\"https://tracking.gitads.io/\"],a[href^=\"https://a.bestcontentweb.top/\"],a[href^=\"http://www.cdjapan.co.jp/aff/click.cgi/\"],div[class^=\"AdhesionAd_\"],a[href^=\"https://www.privateinternetaccess.com/\"] > img,a[href^=\"http://www.hitcpm.com/\"],a[href^=\"http://www.flashx.tv/downloadthis\"],a[href^=\"https://sexsimulator.game/tab/?SID=\"],a[href^=\"http://earandmarketing.com/\"],a[href^=\"https://ndt5.net/\"],a[href^=\"http://bcp.crwdcntrl.net/\"],a[href^=\"https://adswick.com/\"],a[href^=\"https://galaxyroms.net/?scr=\"],div[id^=\"ad_position_\"],a[href^=\"http://www.freefilesdownloader.com/\"],a[href^=\"https://redsittalvetoft.pro/\"],a[href^=\"http://www.paddypower.com/?AFF_ID=\"],a[href^=\"https://wantopticalfreelance.com/\"],a[href^=\"https://fileboom.me/pr/\"],a[href^=\"http://www.downloadweb.org/\"],a[href^=\"https://giftsale.co.uk/?utm_\"],a[href^=\"https://landing.brazzersnetwork.com/\"],a[href^=\"http://www.easydownloadnow.com/\"],div[id^=\"ad-position-\"],a[href^=\"https://deliver.tf2www.com/\"],a[href^=\"http://www.bluehost.com/track/\"] > img,a[href^=\"http://c.jumia.io/\"],div[class^=\"BannerAd_\"],a[href^=\"https://my-movie.club/\"],a[href^=\"http://www.download-provider.org/\"],[data-css-class=\"dfp-inarticle\"],aside[id^=\"adrotate_widgets-\"],div[class^=\"Ad__container\"],div[id^=\"proadszone-\"],a[href^=\"https://www.im88trk.com/\"],a[onmousedown^=\"this.href='http://paid.outbrain.com/network/redir?\"][target=\"_blank\"],a[href^=\"https://syndication.optimizesrv.com/\"],a[href^=\"https://prf.hn/click/\"][href*=\"/creativeref:\"] > img,a[target=\"_blank\"][onmousedown=\"this.href^='http://paid.outbrain.com/network/redir?\"],a[href^=\"https://track.wg-aff.com\"],a[href^=\"https://www.mrskin.com/tour\"],a[href^=\"http://cpaway.afftrack.com/\"],[id^=\"ad-wrap-\"],display-ads,[href^=\"https://mypillow.com/\"] > img,a[href^=\"http://www.my-dirty-hobby.com/?sub=\"],a[href^=\"https://www.friendlyduck.com/AF_\"],a[href^=\"http://finaljuyu.com/\"],a[href^=\"https://ads-for-free.com/click.php?\"],a[href^=\"http://ad.yieldmanager.com/\"],a[href^=\"http://marketgid.com\"],a[href^=\"https://www.purevpn.com/\"][href*=\"&utm_source=aff-\"],[data-mobile-ad-id],a[href^=\"https://refpaexhil.top/\"],a[href^=\"https://affcpatrk.com/\"],a[href^=\"https://mcdlks.com/\"],a[href^=\"https://creacdn.top-convert.com/\"],a[href^=\"http://espn.zlbu.net/\"],a[href^=\"https://nutrientassumptionclaims.com/\"],a[href^=\"https://www.adskeeper.co.uk/\"],a[href^=\"http://go.xtbaffiliates.com/\"],a[href^=\"https://topoffers.com/\"][href*=\"/?pid=\"],iframe[src^=\"http://ad.yieldmanager.com/\"],div[id^=\"ad_script_\"],a[href^=\"http://farm.plista.com/pets\"],[href*=\".zlinkm.com/\"],div[id^=\"advt-\"],a[href^=\"https://servedbyadbutler.com/\"],a[href^=\"http://media.paddypower.com/redirect.aspx?\"],a[href^=\"http://liversely.net/\"],a[href^=\"http://www.graboid.com/affiliates/\"],a[href^=\"https://adnetwrk.com/\"],a[href^=\"http://ad.au.doubleclick.net/\"],a[href^=\"http://papi.mynativeplatform.com:80/pub2/\"],a[href^=\"http://mgid.com/\"],a[href^=\"http://www.wantstraffic.com/\"],div[id^=\"rc-widget-\"],a[href^=\"https://a.bestcontentoperation.top/\"],a[href^=\"https://uncensored.game/\"],a[href^=\"https://dooloust.net/\"],a[href^=\"https://leg.xyz/?track=\"],div[id^=\"ad-server-\"],a[href^=\"http://www.firstload.com/affiliate/\"],div[class^=\"pane-adsense-managed-\"],a[href^=\"http://www.babylon.com/welcome/index?affID\"],a[href^=\"https://go.nordvpn.net/aff\"] > img,a[href*=\".zlink9.com/\"],a[href^=\"https://ovb.im/\"],[data-ez-name],div[class^=\"Display_displayAd\"],div[data-adzone],a[href^=\"http://c.actiondesk.com/\"],a[href^=\"http://www.adxpansion.com\"],a[href^=\"https://tracking.trackcasino.co/\"],a[href^=\"http://traffic.tc-clicks.com/\"],div[data-test-id=\"AdBannerWrapper\"],a[href^=\"http://go.seomojo.com/tracking202/\"],[data-dynamic-ads],a[href^=\"https://partners.fxoro.com/click.php?\"],a[href^=\"https://click.plista.com/pets\"],a[href^=\"http://www.dl-provider.com/search/\"],a[href^=\"http://see-work.info/\"],a[href^=\"http://look.djfiln.com/\"],a[href^=\"https://m.do.co/c/\"] > img,a[href^=\"http://www.coiwqe.site/\"],[href^=\"https://wct.link/\"],a[href^=\"http://latestdownloads.net/download.php?\"],[data-template-type=\"nativead\"],a[href^=\"https://track.effiliation.com/servlet/effi.click?\"] > img,[href^=\"https://freecourseweb.com/\"] > .sitefriend,a[href^=\"https://flirtaescopa.com/\"],a[href^=\"https://www.securegfm.com/\"],a[href^=\"https://natour.naughtyamerica.com/track/\"],div[data-adunit-path],a[href^=\"http://server.cpmstar.com/click.aspx?poolid=\"],a[href^=\"https://www.pornhat.com/\"][rel=\"nofollow\"],div[data-ad-placeholder],a[href^=\"http://engine.newsmaxfeednetwork.com/\"],div[data-ad-wrapper],a[href^=\"https://burpee.xyz/\"],a[href^=\"https://www.awin1.com/cread.php?awinaffid=\"],a[href^=\"http://banners.victor.com/processing/\"],a[href^=\"https://secure.adnxs.com/clktrb?\"],a[href^=\"http://ul.to/ref/\"],a[href^=\"http://dftrck.com/\"],a[href^=\"http://www.linkbucks.com/referral/\"],[href^=\"https://totlnkcl.com/\"],a[href^=\"https://t.adating.link/\"],a[href^=\"https://awptjmp.com/\"],a[href^=\"http://vo2.qrlsx.com/\"],a[href^=\"http://pwrads.net/\"],a-ad,DFP-AD,display-ad-component,a[href^=\"https://chaturbate.jjgirls.com/?track=\"],a[href^=\"http://click.plista.com/pets\"],a[href^=\"http://s5prou7ulr.com/\"],a[href^=\"https://track.afcpatrk.com/\"],a[onmousedown^=\"this.href='https://paid.outbrain.com/network/redir?\"][target=\"_blank\"],div[data-insertion],a[href^=\"https://go.ebrokerserve.com/\"],[data-ad-manager-id],a[href^=\"https://go.onclasrv.com/\"],[data-ad-width],[id*=\"MarketGid\"],a[href^=\"https://go.xtbaffiliates.com/\"],a[href^=\"http://clkmon.com/adServe/\"],a[href^=\"https://ads.planetwin365affiliate.com/redirect.aspx?\"],div[class^=\"sp-adslot-\"],topadblock,a[href^=\"https://t.hrtyj.com/\"],amp-ad-custom,a[href^=\"https://blackorange.go2cloud.org/\"],a[href^=\"http://install.securewebsiteaccess.com/\"],a[href^=\"https://secure.starsaffiliateclub.com/C.ashx?\"],iframe[src^=\"https://tpc.googlesyndication.com/\"],div[id^=\"lazyad-\"],a[href^=\"//srv.buysellads.com/\"],[data-desktop-ad-id],a[href^=\"https://content.oneindia.com/www/delivery/\"],a[href^=\"https://fastestvpn.com/lifetime-special-deal?a_aid=\"],a[href^=\"http://www.menaon.com/installs/\"],a[href^=\"https://jmp.awempire.com/\"],a[href^=\"http://igromir.info/\"],a[href^=\"https://awentw.com/\"],a[href^=\"https://t.hrtye.com/\"],a[href^=\"https://get.surfshark.net/aff_c?\"][href*=\"&aff_id=\"] > img,AFS-AD,a[href^=\"https://a-ads.com/?partner=\"],a[href^=\"https://financeads.net/tc.php?\"],[href^=\"http://globsads.com/\"],a[href^=\"https://www.hotgirls4fuck.com/\"],[href^=\"https://affiliate.fastcomet.com/\"] > img,div[data-id-advertdfpconf],a[href^=\"https://www.g4mz.com/\"],a[href^=\"http://affiliates.pinnaclesports.com/processing/\"],a[href^=\"http://c43a3cd8f99413891.com/\"],a[href^=\"http://trk.mdrtrck.com/\"],a[href^=\"https://zononi.com/\"],a[href^=\"http://clickserv.sitescout.com/\"],a[href^=\"http://bc.vc/?r=\"],div[id^=\"taboola-stream-\"],div[class^=\"ResponsiveAd-\"],a[href^=\"https://go.goaserv.com/\"],a[href^=\"http://servicegetbook.net/\"],a[href^=\"http://ffxitrack.com/\"],a[href^=\"http://allaptair.club/\"],[lazy-ad=\"leftbottom_banner\"],a[href^=\"http://adtrack123.pl/\"],a[href^=\"https://www.popads.net/users/\"],a[href^=\"http://eclkmpsa.com/\"],a[href^=\"https://reachtrgt.com/\"],a[href^=\"http://track.afcpatrk.com/\"],a[href^=\"http://ads2.williamhill.com/redirect.aspx?\"],a[href^=\"http://www.1clickdownloader.com/\"],[class^=\"Ad-adContainer\"],a[href^=\"http://join3.bannedsextapes.com/track/\"],a[href^=\"https://www.oboom.com/ref/\"],a[href^=\"http://static.fleshlight.com/images/banners/\"],a[href^=\"https://bongacams2.com/track?\"],div[class^=\"advertisement-desktop\"],[onclick^=\"location.href='http://www.reimageplus.com\"],a[href^=\"https://watchmygirlfriend.tv/\"],[lazy-ad=\"top_banner\"],div[id^=\"yandex_ad\"],a[href^=\"https://claring-loccelkin.com/\"],a[href^=\"https://porngames.adult/?SID=\"],[id^=\"google_ads_iframe\"],a[href^=\"http://www.mobileandinternetadvertising.com/\"],div[class^=\"Directory__footerAds\"],a[href^=\"//www.mgid.com/\"],a[href^=\"http://go.fpmarkets.com/\"],div[id^=\"_vdo_ads_player_ai_\"],a[href^=\"https://prf.hn/click/\"][href*=\"/adref:\"] > img,a[href^=\"http://partners.etoro.com/\"],a[href^=\"http://adserver.adtechus.com/\"],[href^=\"https://shrugartisticelder.com\"],a[href^=\"https://track.interactivegf.com/\"],[href^=\"https://mylead.global/stl/\"] > img,a[href^=\"https://vlnk.me/\"],a[href^=\"https://go.admjmp.com/\"],a[href^=\"http://s9kkremkr0.com/\"],[name^=\"google_ads_iframe\"],a[href^=\"https://goraps.com/\"],a[href^=\"http://www.streamtunerhd.com/signup?\"],a[href^=\"http://record.sportsbetaffiliates.com.au/\"],a[href^=\"https://ismlks.com/\"],div[data-native-ad],a[href^=\"http://syndication.exoclick.com/\"],a[href^=\"https://transfer.xe.com/signup/track/redirect?\"],[href^=\"https://join.playboyplus.com/track/\"],a[href^=\"https://paid.outbrain.com/network/redir?\"],a[data-oburl^=\"https://paid.outbrain.com/network/redir?\"],a[href^=\"http://www.friendlyadvertisements.com/\"],a[href^=\"https://www.arthrozene.com/\"][href*=\"?tid=\"],a[href^=\"https://trf.bannerator.com/\"],a[href^=\"http://www.terraclicks.com/\"],a[href^=\"https://trappist-1d.com/\"],a[href^=\"https://meet-to-fuck.com/tds\"],a[href^=\"https://track.healthtrader.com/\"],[href^=\"https://infinitytrk.com/\"],a[href^=\"http://adlev.neodatagroup.com/\"],a[href^=\"https://adultfriendfinder.com/go/page/landing\"],a[href^=\"https://scurewall.co/\"],a[data-redirect^=\"http://paid.outbrain.com/network/redir?\"],a[href^=\"https://mk-ads.com/\"],a[href^=\"https://x.trafficandoffers.com/\"],a[href^=\"http://d2.zedo.com/\"],[href^=\"https://www.hostg.xyz/aff_c\"] > img,[href^=\"https://zone.gotrackier.com/\"],a[href^=\"http://aff.ironsocket.com/\"],a[href^=\"http://www.gamebookers.com/cgi-bin/intro.cgi?\"],a[href^=\"https://googleads.g.doubleclick.net/pcs/click\"],[href^=\"https://traffserve.com/\"],a[href^=\"http://www.advcashpro.com/aff/\"],a[href^=\"http://www.torntv-downloader.com/\"],a[href^=\"https://aaucwbe.com/\"],a[href^=\"http://promos.bwin.com/\"],a[href^=\"http://www.usearchmedia.com/signup?\"],a[href^=\"https://gohere.pl/\"],a[href^=\"https://ads.leovegas.com/redirect.aspx?\"],div[aria-label=\"Ads\"],a[href^=\"https://track.clickmoi.xyz/\"],a[href^=\"http://www.afgr2.com/\"],a[href^=\"http://www.downloadplayer1.com/\"],a[href^=\"https://medleyads.com/\"],app-large-ad,a[href^=\"http://www.afgr3.com/\"],a[href^=\"http://www.streamate.com/exports/\"],a[href^=\"https://bngpt.com/\"],a[href^=\"http://srvpub.com/\"],div[data-ad-targeting],[class^=\"AdvertisingSlot_\"],a[href^=\"http://www.quick-torrent.com/download.html?aff\"],a[href^=\"//porngames.adult/?SID=\"],a[href^=\"http://refpaano.host/\"],a[href^=\"https://www.xvinlink.com/?a_fid=\"],a[href^=\"http://dwn.pushtraffic.net/\"],a[href^=\"https://ad.zanox.com/ppc/\"] > img,a[href^=\"http://reallygoodlink.freehookupaffair.com/\"],a[href^=\"https://fertilitycommand.com/\"],a[href^=\"https://traffic.bannerator.com/\"],a[href^=\"https://cams.imagetwist.com/in/?track=\"],a[href^=\"http://hd-plugins.com/download/\"],a[href^=\"https://t.aslnk.link/\"],[href^=\"http://join.trannies-fuck.com/\"],a[href^=\"https://queersodadults.com/\"],a[href^=\"http://casino-x.com/?partner\"],div[id^=\"code_ads_\"],a[href^=\"http://down1oads.com/\"],a[href^=\"http://www.pinkvisualgames.com/?revid=\"],a[href^=\"https://ads.trafficpoizon.com/\"],a[href^=\"https://click.hoolig.app/\"],a[href^=\"https://deliver.ptgncdn.com/\"],a[href^=\"//thaudray.com/\"],a[href^=\"http://buysellads.com/\"],a[href^=\"https://www.sheetmusicplus.com/\"][href*=\"?aff_id=\"],a[href^=\"https://www.camsoda.com/enter.php?id=\"],a[href^=\"http://bcntrack.com/\"],a[href^=\"https://retiremely.com/\"],a[href^=\"http://adrunnr.com/\"],a[href^=\"https://axdsz.pro/\"],div[id^=\"adfox_\"],a[href^=\"https://www.nutaku.net/signup/landing/\"],a[href^=\"http://wopertific.info/\"],a[href^=\"https://as.conjectwatson.com/\"],a[href^=\"http://onclickads.net/\"],amp-embed[type=\"taboola\"],div[id^=\"adrotate_widgets-\"],a[href^=\"https://oackoubs.com/\"],a[href^=\"http://www.firstclass-download.com/\"],div[class^=\"kiwiad-desktop\"],a[href^=\"http://enter.anabolic.com/track/\"],a[href^=\"https://gamescarousel.com/\"],a[href^=\"http://bestorican.com/\"],[href^=\"http://join.shemalepornstar.com/\"],a[href^=\"http://yads.zedo.com/\"],a[href^=\"https://www.financeads.net/tc.php?\"],a[href^=\"http://adultfriendfinder.com/p/register.cgi?pid=\"],div[class^=\"native-ad-\"],a[href^=\"https://mediaserver.entainpartners.com/renderBanner.do?\"],a[href^=\"http://www.liversely.net/\"],a[href^=\"http://adultgames.xxx/\"],a[href^=\"https://juicyads.in/\"],[href^=\"https://www.dcpodj3k5.com/\"],[href^=\"https://r.kraken.com/\"],a[href^=\"https://fakelay.com/\"],div[id^=\"ad-cid-\"],[data-freestar-ad],a[href^=\"https://www.gambling-affiliation.com/cpc/\"],a[href^=\"https://ad.doubleclick.net/\"],div[class^=\"AdBannerWrapper-\"],a[href^=\"https://dianches-inchor.com/\"],a[href^=\"https://meet-sex-here.com/?u=\"],a[href^=\"https://www.googleadservices.com/pagead/aclk?\"],a[href^=\"http://affiliate.coral.co.uk/processing/\"],a[href^=\"https://click.a-ads.com/\"],[href^=\"http://join.rodneymoore.com/\"],a[href^=\"https://clixtrac.com/\"],a[href^=\"https://americafirstpolls.com/\"],[data-ad-cls],a[href^=\"https://go.trkclick2.com/\"],div[id^=\"dfp-ad-\"],a[href^=\"http://www.myfreepaysite.com/sfw.php?aid\"],[href^=\"http://homemoviestube.com/\"],a[href^=\"https://www.adxtro.com/\"],a[href^=\"https://spygasm.com/track?\"],a[href^=\"https://secure.cbdpure.com/aff/\"],a[href^=\"http://keep2share.cc/pr/\"],a[href^=\"http://www.adultempire.com/unlimited/promo?\"][href*=\"&partner_id=\"],a[href^=\"http://webtrackerplus.com/\"],a[href^=\"http://cdn.adsrvmedia.net/\"],a[href^=\"http://go.ad2up.com/\"],a[href^=\"https://www.what-sexdating.com/\"],a[href^=\"https://mmwebhandler.aff-online.com/\"],a[href^=\"http://www.revenuehits.com/\"],a[href^=\"http://wct.link/\"],a[href^=\"http://www.sexgangsters.com/?pid=\"],a[href^=\"https://pl.premium4kflix.website/\"],a[href^=\"https://intenseaffiliates.com/redirect/\"],a[href^=\"https://offerforge.net/\"],div[class^=\"PreAd_\"],a[href^=\"http://ad-apac.doubleclick.net/\"],[href^=\"http://join.shemale.xxx/\"],app-advertisement,[id^=\"ad_slider\"],a[href^=\"https://freeadult.games/\"],a[data-redirect^=\"https://paid.outbrain.com/network/redir?\"],a[href^=\"https://someperceptionparade.com/\"],a[href^=\"http://www.123-reg.co.uk/affiliate2.cgi\"],[href^=\"https://go.affiliatexe.com/\"],a[href^=\"https://landing.brazzersplus.com/\"],a[href^=\"https://agacelebir.com/\"],bottomadblock,a[data-url^=\"http://paid.outbrain.com/network/redir?\"] + .author,[href^=\"https://click2cvs.com/\"],a[href^=\"http://www.sfippa.com/\"],a[href^=\"https://go.gldrdr.com/\"],[href^=\"https://t.ajrkm.link/\"],div[class^=\"proadszone-\"],a[href^=\"https://ad13.adfarm1.adition.com/\"],a[href^=\"http://codec.codecm.com/\"],a[href^=\"https://camfapr.com/landing/click/\"],a[href^=\"https://static.fleshlight.com/images/banners/\"],[href^=\"http://join.shemalesfromhell.com/\"],[href^=\"https://affect3dnetwork.com/track/\"],a[href^=\"https://go.strpjmp.com/\"],div[class^=\"AdSlot__container\"],a[href^=\"http://tour.mrskin.com/\"],a[href^=\"http://cdn.adstract.com/\"],div[id^=\"advads-\"],a[href^=\"https://www.travelzoo.com/oascampaignclick/\"],a[href^=\"http://www.bitlord.me/share/\"],a[href^=\"https://k2s.cc/pr/\"],a[href^=\"https://go.markets.com/visit/?bta=\"],a[href^=\"http://betahit.click/\"],a[href^=\"http://www.greenmangaming.com/?tap_a=\"],a[href^=\"https://bongacams10.com/track?\"],div[id^=\"adspot-\"],a[href^=\"https://secure.bstlnk.com/\"],a[href^=\"https://affiliates.bet-at-home.com/processing/\"],a[href^=\"//www.pd-news.com/\"],a[href^=\"http://www.webtrackerplus.com/\"],a[href^=\"http://secure.signup-page.com/\"],a[href^=\"https://geniusdexchange.com/\"],a[href^=\"http://go.247traffic.com/\"],div[id^=\"crt-\"][style],[href^=\"//mage98rquewz.com/\"],a[href^=\"https://explore.findanswersnow.net/\"],AD-TRIPLE-BOX,a[href^=\"http://goldmoney.com/?gmrefcode=\"],a[href^=\"http://websitedhoome.com/\"],a[href^=\"http://www.tirerack.com/affiliates/\"],a[href^=\"https://track.bruceads.com/\"],a[href^=\"http://play4k.co/\"],div[id^=\"ezoic-pub-ad-\"],a[href^=\"https://trust.zone/go/r.php?RID=\"],div[class^=\"SponsoredAds\"],a[href^=\"http://refer.webhostingbuzz.com/\"],div[jsdata*=\"CarouselPLA-\"][data-id^=\"CarouselPLA-\"],iframe[src^=\"https://pagead2.googlesyndication.com/\"],a[href^=\"https://playuhd.host/\"],div[id^=\"ads300_100-widget-\"],a[href^=\"http://affiliates.lifeselector.com/\"],a[href^=\"http://see.kmisln.com/\"],a[href^=\"https://www.goldenfrog.com/vyprvpn?offer_id=\"][href*=\"&aff_id=\"],[href^=\"https://track.fiverr.com/visit/\"] > img,a[href^=\"http://www.seekbang.com/cs/\"],[href^=\"https://bulletprofitsmartlink.com/\"],a[href^=\"http://chaturbate.com/affiliates/\"],a[href^=\"https://join.dreamsexworld.com/\"],a[href^=\"https://moneynow.one/\"],div[data-google-query-id],a[href^=\"http://rs-stripe.wsj.com/stripe/redirect\"],a[href^=\"https://www.nudeidols.com/cams/\"],div[data-contentexchange-widget],a[href^=\"http://webgirlz.online/landing/\"],a[href^=\"https://www.bang.com/?aff=\"],a[href^=\"http://www.twinplan.com/AF_\"],a[href^=\"//pubads.g.doubleclick.net/\"],a[href^=\"https://tracking.truthfinder.com/?a=\"],div[data-dfp-id],a[href^=\"https://t.grtyi.com/\"],a[href^=\"https://www.oboom.com/ad/\"],a[href^=\"https://bullads.net/get/\"],div[id^=\"ad-inserter-\"],a[href^=\"https://www.clicktraceclick.com/\"],a[href^=\"http://ads.betfair.com/redirect.aspx?\"],a[href^=\"https://affiliate.rusvpn.com/click.php?\"],a[href^=\"http://www.socialsex.com/\"],a[href^=\"http://admrotate.iplayer.org/\"],a[href^=\"https://offers.refchamp.com/\"],div[class^=\"ad_position_\"],a[href^=\"http://zevera.com/afi.html\"],a[href^=\"http://serve.williamhill.com/promoRedirect?\"],a[href^=\"http://www.myfreepaysite.com/sfw_int.php?aid\"],div[class^=\"index_adBeforeContent_\"],[href^=\"https://www.reimageplus.com/\"],[href^=\"https://stvkr.com/\"],a[href^=\"http://n.admagnet.net/\"],a[href^=\"http://secure.vivid.com/track/\"],a[href^=\"http://pubads.g.doubleclick.net/\"],a[href^=\"http://freesoftwarelive.com/\"],a[href^=\"https://go.alxbgo.com/\"],[id*=\"ScriptRoot\"],a[href^=\"http://z1.zedo.com/\"],a[href^=\"http://hotcandyland.com/partner/\"],[href^=\"https://www.mypillow.com/\"] > img,[href^=\"http://www.pingperfect.com/aff.php\"],a[href^=\"http://pityhostngco2.xyz/\"],a[href^=\"http://www.roboform.com/php/land.php\"],a[href^=\"http://www.amazon.co.uk/exec/obidos/external-search?\"],a[href^=\"https://www.sheetmusicplus.com/?aff_id=\"],div[data-mediatype=\"advertising\"],a[href^=\"http://www.down1oads.com/\"],a[href^=\"https://go.goasrv.com/\"],a[href^=\"https://easygamepromo.com/ef/custom_affiliate/\"],a[href^=\"https://awecrptjmp.com/\"],a[href^=\"http://reallygoodlink.extremefreegames.com/\"],a[href^=\"//postlnk.com/\"],a[href^=\"https://adsrv4k.com/\"],[href^=\"http://trafficare.net/\"],AD-SLOT,guj-ad,[data-role=\"tile-ads-module\"],a[href^=\"https://land.brazzersnetwork.com/landing/\"],div[id^=\"dfp-slot-\"],a[href^=\"https://www.kingsoffetish.com/tour?partner_id=\"],a[href^=\"https://www.passeura.com/\"],a[href^=\"http://landingpagegenius.com/\"],a[href^=\"http://https://www.get-express-vpn.com/offer/\"],[id^=\"adframe_wrap_\"],[href^=\"https://awbbjmp.com/\"],a[href^=\"https://www.chngtrack.com/\"],a[href^=\"https://track.ultravpn.com/\"],div[data-adunit],a[href^=\"https://torguard.net/aff.php\"] > img,a[href^=\"https://a-ads.com/campaigns/\"],a[href^=\"https://bluedelivery.pro/\"],a[href^=\"https://chaturbate.com/in/?track=\"],[href^=\"/ucdownloader.php\"],[href^=\"https://www.restoro.com/\"],a[href^=\"http://k2s.cc/code/\"],a[data-obtrack^=\"http://paid.outbrain.com/network/redir?\"],a[href^=\"http://www.onclickmega.com/jump/next.php?\"],a[href^=\"http://findersocket.com/\"],a[href^=\"https://trackjs.com/?utm_source\"],aside[id^=\"advads_ad_widget-\"],a[href^=\"http://ads.sprintrade.com/\"],a[href^=\"https://horny-pussies.com/tds\"],a[href^=\"https://tracking.avapartner.com/\"],a[data-redirect^=\"this.href='http://paid.outbrain.com/network/redir?\"],a[href^=\"https://iactrivago.ampxdirect.com/\"],a[href^=\"http://adprovider.adlure.net/\"],div[class^=\"kiwiad-popup\"],a[href^=\"http://adtrackone.eu/\"],a[href^=\"http://affiliates.score-affiliates.com/\"],div[id^=\"adngin-\"],a[href^=\"https://myusenet.xyz/\"],a[href^=\"http://liversely.com/\"],a[href^=\"http://api.content.ad/\"],a[href^=\"http://adserving.unibet.com/\"],a[href^=\"https://tour.mrskin.com/\"],a[href^=\"https://www.firstload.com/affiliate/\"],a[href^=\"http://adsrv.keycaptcha.com\"],div[class^=\"ad_border_\"],[href^=\"https://detachedbates.com/\"],a[href^=\"https://s.zlink2.com/\"],a[data-oburl^=\"http://paid.outbrain.com/network/redir?\"],a[href^=\"http://www.uniblue.com/cm/\"],a[href^=\"//coarsewary.com/\"],a[href^=\"https://dediseedbox.com/clients/aff.php?\"],div[data-before-content=\"advertisement\"],a[href^=\"http://go.oclaserver.com/\"],a[href^=\"http://www.securegfm.com/\"],mq-programmatic-ad,a[href^=\"http://g1.v.fwmrm.net/ad/\"],[href^=\"https://secure.bmtmicro.com/servlets/\"],amp-fx-flying-carpet,a[href^=\"http://www.adskeeper.co.uk/\"],a[href^=\"http://azmobilestore.co/\"],a[href^=\"http://guideways.info/\"],a[href^=\"http://istri.it/?\"],a[href^=\"https://www.mrskin.com/account/\"],[href^=\"/ucmini.php\"],a[href^=\"https://secure.eveonline.com/ft/?aid=\"],a[href^=\"http://www.downloadthesefiles.com/\"],a[href^=\"http://www.adbrite.com/mb/commerce/purchase_form.php?\"],a[href^=\"http://bodelen.com/\"],div[id^=\"div-adtech-ad-\"],a[href^=\"http://clickandjoinyourgirl.com/\"],a[href^=\"https://go.trackitalltheway.com/\"],a[href^=\"https://go.247traffic.com/\"],div[id^=\"banner-ad-\"],div[class^=\"StickyHeroAdWrapper-\"],a[href^=\"https://www.dollps.com/?track=\"],a[href^=\"https://www.oneclickroot.com/?tap_a=\"] > img,div[class^=\"hp-ad-rect-\"],a[data-widget-outbrain-redirect^=\"http://paid.outbrain.com/network/redir?\"],div[data-mpu1],div[class^=\"BlockAdvert-\"],a[href^=\"https://control.trafficfabrik.com/\"],a[href^=\"https://adclick.g.doubleclick.net/\"],a[href^=\"https://azpresearch.club/\"],a[href^=\"https://clicks.pipaffiliates.com/\"],a[href^=\"http://wxdownloadmanager.com/dl/\"],[id^=\"div-gpt-ad\"],a[href^=\"https://fonts.fontplace9.com/\"],a[href^=\"http://intent.bingads.com/\"],a[href^=\"http://c.ketads.com/\"],a[href^=\"https://torrentsafeguard.com/?aid=\"],a[href^=\"http://1phads.com/\"],a[href^=\"https://billing.purevpn.com/aff.php\"] > img,AMP-AD,a[href^=\"http://tracking.deltamediallc.com/\"],a[href^=\"https://ads.betfair.com/redirect.aspx?\"],a[href^=\"https://dltags.com/\"],div[data-native_ad],a[href=\"//rufflycouncil.com/\"],a[href^=\"https://join.virtuallust3d.com/\"],a[href^=\"https://look.utndln.com/\"],a[href^=\"http://online.ladbrokes.com/promoRedirect?\"],div[data-spotim-slot],div[id^=\"ad_bigbox_\"],div[id^=\"google_dfp_\"],a[href^=\"http://wgpartner.com/\"],div[data-adservice-param-tagid=\"contentad\"],a[href^=\"http://ads.expekt.com/affiliates/\"],a[href^=\"https://go.julrdr.com/\"],a[href^=\"https://intrev.co/\"],div[class^=\"adpubs-\"],a[href^=\"http://www.fleshlight.com/\"],a[href^=\"http://hyperlinksecure.com/go/\"],aside[id^=\"tn_ads_widget-\"],hl-adsense,a[href^=\"https://iqbroker.com/\"][href*=\"?aff=\"],a[href^=\"https://tm-offers.gamingadult.com/\"],span[title=\"Ads by Google\"],a[href^=\"https://land.rk.com/landing/\"],div[class^=\"awpcp-random-ads\"],a[href^=\"https://badoinkvr.com/\"],a[href^=\"https://www.share-online.biz/affiliate/\"],a[href^=\"http://pokershibes.com/index.php?ref=\"],a[href^=\"http://mmo123.co/\"],a[href^=\"http://aflrm.com/\"],[href^=\"http://join.michelle-austin.com/\"],a[href^=\"http://amzn.to/\"] > img[src^=\"data\"],a[href^=\"http://czotra-32.com/\"],a[href^=\"http://www.getyourguide.com/?partner_id=\"],div[class^=\"lifeOnwerAd\"],a[href^=\"https://chaturbate.xyz/\"],[href^=\"https://v.investologic.co.uk/\"],a[href^=\"https://refpasrasw.world/\"],a[href^=\"https://incisivetrk.cvtr.io/click?\"],div[data-ad-underplayer],a[href^=\"http://fileboom.me/pr/\"],a[href^=\"https://bs.serving-sys.com\"],a[href^=\"https://squren.com/rotator/?atomid=\"],span[id^=\"ezoic-pub-ad-placeholder-\"],div[class^=\"backfill-taboola-home-slot-\"],aa[href^=\"https://itubego.com/video-downloader/?affid=\"],[class^=\"div-gpt-ad\"],a[href^=\"http://hpn.houzz.com/\"],a[href^=\"http://adclick.g.doubleclick.net/\"],div[id^=\"amzn-assoc-ad\"],a[href^=\"//voyeurhit.com/cs/\"],a[href^=\"http://www.on2url.com/app/adtrack.asp\"],ad-desktop-sidebar,a[href^=\"http://www.plus500.com/?id=\"],a[href^=\"http://tezfiles.com/pr/\"] { display: none !important }</style>\n",
       "</body></html>"
      ]
     },
     "execution_count": 10,
     "metadata": {},
     "output_type": "execute_result"
    }
   ],
   "source": [
    "# Parse the resulting html with soup\n",
    "html = browser.html\n",
    "img_soup = soup(html, 'html.parser')\n",
    "img_soup"
   ]
  },
  {
   "cell_type": "code",
   "execution_count": 11,
   "metadata": {},
   "outputs": [
    {
     "ename": "AttributeError",
     "evalue": "'NoneType' object has no attribute 'get'",
     "output_type": "error",
     "traceback": [
      "\u001b[1;31m---------------------------------------------------------------------------\u001b[0m",
      "\u001b[1;31mAttributeError\u001b[0m                            Traceback (most recent call last)",
      "\u001b[1;32m~\\AppData\\Local\\Temp\\ipykernel_9512\\3003817307.py\u001b[0m in \u001b[0;36m<module>\u001b[1;34m\u001b[0m\n\u001b[0;32m      1\u001b[0m \u001b[1;31m# find the relative image url\u001b[0m\u001b[1;33m\u001b[0m\u001b[1;33m\u001b[0m\u001b[1;33m\u001b[0m\u001b[0m\n\u001b[1;32m----> 2\u001b[1;33m \u001b[0mimg_url_rel\u001b[0m \u001b[1;33m=\u001b[0m \u001b[0mimg_soup\u001b[0m\u001b[1;33m.\u001b[0m\u001b[0mfind\u001b[0m\u001b[1;33m(\u001b[0m\u001b[1;34m'img'\u001b[0m\u001b[1;33m,\u001b[0m \u001b[0mclass_\u001b[0m\u001b[1;33m=\u001b[0m\u001b[1;34m'fancybox-image'\u001b[0m\u001b[1;33m)\u001b[0m\u001b[1;33m.\u001b[0m\u001b[0mget\u001b[0m\u001b[1;33m(\u001b[0m\u001b[1;34m'src'\u001b[0m\u001b[1;33m)\u001b[0m\u001b[1;33m\u001b[0m\u001b[1;33m\u001b[0m\u001b[0m\n\u001b[0m\u001b[0;32m      3\u001b[0m \u001b[0mimg_url_rel\u001b[0m\u001b[1;33m\u001b[0m\u001b[1;33m\u001b[0m\u001b[0m\n",
      "\u001b[1;31mAttributeError\u001b[0m: 'NoneType' object has no attribute 'get'"
     ]
    }
   ],
   "source": [
    "# find the relative image url\n",
    "img_url_rel = img_soup.find('img', class_='fancybox-image').get('src')\n",
    "img_url_rel"
   ]
  },
  {
   "cell_type": "code",
   "execution_count": null,
   "metadata": {},
   "outputs": [
    {
     "data": {
      "text/plain": [
       "'https://spaceimages-mars.com/image/featured/mars1.jpg'"
      ]
     },
     "execution_count": 276,
     "metadata": {},
     "output_type": "execute_result"
    }
   ],
   "source": [
    "# Use the base url to create an absolute url\n",
    "img_url = f'https://spaceimages-mars.com/{img_url_rel}'\n",
    "img_url"
   ]
  },
  {
   "cell_type": "markdown",
   "metadata": {},
   "source": [
    "### Mars Facts"
   ]
  },
  {
   "cell_type": "code",
   "execution_count": null,
   "metadata": {},
   "outputs": [
    {
     "data": {
      "text/html": [
       "<div>\n",
       "<style scoped>\n",
       "    .dataframe tbody tr th:only-of-type {\n",
       "        vertical-align: middle;\n",
       "    }\n",
       "\n",
       "    .dataframe tbody tr th {\n",
       "        vertical-align: top;\n",
       "    }\n",
       "\n",
       "    .dataframe thead th {\n",
       "        text-align: right;\n",
       "    }\n",
       "</style>\n",
       "<table border=\"1\" class=\"dataframe\">\n",
       "  <thead>\n",
       "    <tr style=\"text-align: right;\">\n",
       "      <th></th>\n",
       "      <th>0</th>\n",
       "      <th>1</th>\n",
       "      <th>2</th>\n",
       "    </tr>\n",
       "  </thead>\n",
       "  <tbody>\n",
       "    <tr>\n",
       "      <th>0</th>\n",
       "      <td>Mars - Earth Comparison</td>\n",
       "      <td>Mars</td>\n",
       "      <td>Earth</td>\n",
       "    </tr>\n",
       "    <tr>\n",
       "      <th>1</th>\n",
       "      <td>Diameter:</td>\n",
       "      <td>6,779 km</td>\n",
       "      <td>12,742 km</td>\n",
       "    </tr>\n",
       "    <tr>\n",
       "      <th>2</th>\n",
       "      <td>Mass:</td>\n",
       "      <td>6.39 × 10^23 kg</td>\n",
       "      <td>5.97 × 10^24 kg</td>\n",
       "    </tr>\n",
       "    <tr>\n",
       "      <th>3</th>\n",
       "      <td>Moons:</td>\n",
       "      <td>2</td>\n",
       "      <td>1</td>\n",
       "    </tr>\n",
       "    <tr>\n",
       "      <th>4</th>\n",
       "      <td>Distance from Sun:</td>\n",
       "      <td>227,943,824 km</td>\n",
       "      <td>149,598,262 km</td>\n",
       "    </tr>\n",
       "  </tbody>\n",
       "</table>\n",
       "</div>"
      ],
      "text/plain": [
       "                         0                1                2\n",
       "0  Mars - Earth Comparison             Mars            Earth\n",
       "1                Diameter:         6,779 km        12,742 km\n",
       "2                    Mass:  6.39 × 10^23 kg  5.97 × 10^24 kg\n",
       "3                   Moons:                2                1\n",
       "4       Distance from Sun:   227,943,824 km   149,598,262 km"
      ]
     },
     "execution_count": 277,
     "metadata": {},
     "output_type": "execute_result"
    }
   ],
   "source": [
    "df = pd.read_html('https://galaxyfacts-mars.com')[0]\n",
    "df.head()"
   ]
  },
  {
   "cell_type": "code",
   "execution_count": null,
   "metadata": {},
   "outputs": [
    {
     "data": {
      "text/html": [
       "<div>\n",
       "<style scoped>\n",
       "    .dataframe tbody tr th:only-of-type {\n",
       "        vertical-align: middle;\n",
       "    }\n",
       "\n",
       "    .dataframe tbody tr th {\n",
       "        vertical-align: top;\n",
       "    }\n",
       "\n",
       "    .dataframe thead th {\n",
       "        text-align: right;\n",
       "    }\n",
       "</style>\n",
       "<table border=\"1\" class=\"dataframe\">\n",
       "  <thead>\n",
       "    <tr style=\"text-align: right;\">\n",
       "      <th></th>\n",
       "      <th>Mars</th>\n",
       "      <th>Earth</th>\n",
       "    </tr>\n",
       "    <tr>\n",
       "      <th>Description</th>\n",
       "      <th></th>\n",
       "      <th></th>\n",
       "    </tr>\n",
       "  </thead>\n",
       "  <tbody>\n",
       "    <tr>\n",
       "      <th>Mars - Earth Comparison</th>\n",
       "      <td>Mars</td>\n",
       "      <td>Earth</td>\n",
       "    </tr>\n",
       "    <tr>\n",
       "      <th>Diameter:</th>\n",
       "      <td>6,779 km</td>\n",
       "      <td>12,742 km</td>\n",
       "    </tr>\n",
       "    <tr>\n",
       "      <th>Mass:</th>\n",
       "      <td>6.39 × 10^23 kg</td>\n",
       "      <td>5.97 × 10^24 kg</td>\n",
       "    </tr>\n",
       "    <tr>\n",
       "      <th>Moons:</th>\n",
       "      <td>2</td>\n",
       "      <td>1</td>\n",
       "    </tr>\n",
       "    <tr>\n",
       "      <th>Distance from Sun:</th>\n",
       "      <td>227,943,824 km</td>\n",
       "      <td>149,598,262 km</td>\n",
       "    </tr>\n",
       "    <tr>\n",
       "      <th>Length of Year:</th>\n",
       "      <td>687 Earth days</td>\n",
       "      <td>365.24 days</td>\n",
       "    </tr>\n",
       "    <tr>\n",
       "      <th>Temperature:</th>\n",
       "      <td>-87 to -5 °C</td>\n",
       "      <td>-88 to 58°C</td>\n",
       "    </tr>\n",
       "  </tbody>\n",
       "</table>\n",
       "</div>"
      ],
      "text/plain": [
       "                                    Mars            Earth\n",
       "Description                                              \n",
       "Mars - Earth Comparison             Mars            Earth\n",
       "Diameter:                       6,779 km        12,742 km\n",
       "Mass:                    6.39 × 10^23 kg  5.97 × 10^24 kg\n",
       "Moons:                                 2                1\n",
       "Distance from Sun:        227,943,824 km   149,598,262 km\n",
       "Length of Year:           687 Earth days      365.24 days\n",
       "Temperature:                -87 to -5 °C      -88 to 58°C"
      ]
     },
     "execution_count": 278,
     "metadata": {},
     "output_type": "execute_result"
    }
   ],
   "source": [
    "df.columns=['Description', 'Mars', 'Earth']\n",
    "df.set_index('Description', inplace=True)\n",
    "df"
   ]
  },
  {
   "cell_type": "code",
   "execution_count": null,
   "metadata": {},
   "outputs": [
    {
     "data": {
      "text/plain": [
       "'<table border=\"1\" class=\"dataframe\">\\n  <thead>\\n    <tr style=\"text-align: right;\">\\n      <th></th>\\n      <th>Mars</th>\\n      <th>Earth</th>\\n    </tr>\\n    <tr>\\n      <th>Description</th>\\n      <th></th>\\n      <th></th>\\n    </tr>\\n  </thead>\\n  <tbody>\\n    <tr>\\n      <th>Mars - Earth Comparison</th>\\n      <td>Mars</td>\\n      <td>Earth</td>\\n    </tr>\\n    <tr>\\n      <th>Diameter:</th>\\n      <td>6,779 km</td>\\n      <td>12,742 km</td>\\n    </tr>\\n    <tr>\\n      <th>Mass:</th>\\n      <td>6.39 × 10^23 kg</td>\\n      <td>5.97 × 10^24 kg</td>\\n    </tr>\\n    <tr>\\n      <th>Moons:</th>\\n      <td>2</td>\\n      <td>1</td>\\n    </tr>\\n    <tr>\\n      <th>Distance from Sun:</th>\\n      <td>227,943,824 km</td>\\n      <td>149,598,262 km</td>\\n    </tr>\\n    <tr>\\n      <th>Length of Year:</th>\\n      <td>687 Earth days</td>\\n      <td>365.24 days</td>\\n    </tr>\\n    <tr>\\n      <th>Temperature:</th>\\n      <td>-87 to -5 °C</td>\\n      <td>-88 to 58°C</td>\\n    </tr>\\n  </tbody>\\n</table>'"
      ]
     },
     "execution_count": 279,
     "metadata": {},
     "output_type": "execute_result"
    }
   ],
   "source": [
    "df.to_html()"
   ]
  },
  {
   "cell_type": "markdown",
   "metadata": {},
   "source": [
    "# D1: Scrape High-Resolution Mars’ Hemisphere Images and Titles"
   ]
  },
  {
   "cell_type": "markdown",
   "metadata": {},
   "source": [
    "### Hemispheres"
   ]
  },
  {
   "cell_type": "code",
   "execution_count": null,
   "metadata": {},
   "outputs": [],
   "source": [
    "# 1. Use browser to visit the URL \n",
    "url = 'https://marshemispheres.com/'\n",
    "\n",
    "browser.visit(url)\n",
    "\n",
    "html = browser.html\n",
    "img_soup = soup(html, 'html.parser')"
   ]
  },
  {
   "cell_type": "code",
   "execution_count": null,
   "metadata": {},
   "outputs": [
    {
     "name": "stdout",
     "output_type": "stream",
     "text": [
      "{'image_url': 'https://marshemispheres.com/images/valles_marineris_enhanced-full.jpg', 'title': 'Valles Marineris Hemisphere Enhanced'}\n"
     ]
    }
   ],
   "source": [
    "# 2. Create a list to hold the images and titles.\n",
    "hemisphere_image_urls = []\n",
    "\n",
    "# 3. Write code to retrieve the image urls and titles for each hemisphere.\n",
    "thumbnails = browser.find_by_css('a.product-item img')\n",
    "\n",
    "\n",
    "for image in range(len(thumbnails)):\n",
    "    hemispheres = {}\n",
    "\n",
    "    browser.find_by_css('a.product-item img')[image].click()\n",
    "\n",
    "    full = browser.links.find_by_text('Sample').first\n",
    "    hemispheres['image_url'] = full['href']\n",
    "\n",
    "    title = browser.find_by_css(\"h2.title\").text\n",
    "    hemispheres['title'] = title\n",
    "\n",
    "    hemisphere_image_urls.append(hemispheres)\n",
    "\n",
    "    browser.back()\n",
    "\n",
    "\n",
    "\n",
    "\n",
    "# what I tried initially beautifulsoup wasn't working out so hot\n",
    "#images = img_soup.find_all('img')\n",
    "# for i in range(len(images)):\n",
    "#     print(images[i])\n",
    "#     img = images[i].get_text('img')\n",
    "    #print(img)\n",
    "    #hemisphere_image_urls.append(img)\n"
   ]
  },
  {
   "cell_type": "code",
   "execution_count": null,
   "metadata": {},
   "outputs": [
    {
     "data": {
      "text/plain": [
       "[{'image_url': 'https://marshemispheres.com/images/full.jpg',\n",
       "  'title': 'Cerberus Hemisphere Enhanced'},\n",
       " {'image_url': 'https://marshemispheres.com/images/schiaparelli_enhanced-full.jpg',\n",
       "  'title': 'Schiaparelli Hemisphere Enhanced'},\n",
       " {'image_url': 'https://marshemispheres.com/images/syrtis_major_enhanced-full.jpg',\n",
       "  'title': 'Syrtis Major Hemisphere Enhanced'},\n",
       " {'image_url': 'https://marshemispheres.com/images/valles_marineris_enhanced-full.jpg',\n",
       "  'title': 'Valles Marineris Hemisphere Enhanced'}]"
      ]
     },
     "execution_count": 283,
     "metadata": {},
     "output_type": "execute_result"
    }
   ],
   "source": [
    "# 4. Print the list that holds the dictionary of each image url and title.\n",
    "hemisphere_image_urls"
   ]
  },
  {
   "cell_type": "code",
   "execution_count": 12,
   "metadata": {},
   "outputs": [],
   "source": [
    "# 5. Quit the browser\n",
    "browser.quit()"
   ]
  },
  {
   "cell_type": "code",
   "execution_count": null,
   "metadata": {},
   "outputs": [],
   "source": []
  }
 ],
 "metadata": {
  "kernelspec": {
   "display_name": "PythonData",
   "language": "python",
   "name": "pythondata"
  },
  "language_info": {
   "codemirror_mode": {
    "name": "ipython",
    "version": 3
   },
   "file_extension": ".py",
   "mimetype": "text/x-python",
   "name": "python",
   "nbconvert_exporter": "python",
   "pygments_lexer": "ipython3",
   "version": "3.7.11"
  },
  "nteract": {
   "version": "0.15.0"
  }
 },
 "nbformat": 4,
 "nbformat_minor": 4
}
