{
 "cells": [
  {
   "cell_type": "code",
   "execution_count": 27,
   "metadata": {},
   "outputs": [],
   "source": [
    "# Import Splinter, BeautifulSoup, and Pandas\n",
    "from splinter import Browser\n",
    "from bs4 import BeautifulSoup as soup\n",
    "import pandas as pd\n",
    "from webdriver_manager.chrome import ChromeDriverManager"
   ]
  },
  {
   "cell_type": "code",
   "execution_count": 28,
   "metadata": {},
   "outputs": [
    {
     "name": "stderr",
     "output_type": "stream",
     "text": [
      "\n",
      "\n",
      "====== WebDriver manager ======\n",
      "Current google-chrome version is 100.0.4896\n",
      "Get LATEST chromedriver version for 100.0.4896 google-chrome\n",
      "Driver [C:\\Users\\becer\\.wdm\\drivers\\chromedriver\\win32\\100.0.4896.60\\chromedriver.exe] found in cache\n"
     ]
    }
   ],
   "source": [
    "# Set the executable path and initialize Splinter\n",
    "executable_path = {'executable_path': ChromeDriverManager().install()}\n",
    "browser = Browser('chrome', **executable_path, headless=False)"
   ]
  },
  {
   "cell_type": "markdown",
   "metadata": {},
   "source": [
    "### Visit the NASA Mars News Site"
   ]
  },
  {
   "cell_type": "code",
   "execution_count": 3,
   "metadata": {},
   "outputs": [
    {
     "data": {
      "text/plain": [
       "True"
      ]
     },
     "execution_count": 3,
     "metadata": {},
     "output_type": "execute_result"
    }
   ],
   "source": [
    "# Visit the mars nasa news site\n",
    "url = 'https://redplanetscience.com/'\n",
    "browser.visit(url)\n",
    "\n",
    "# Optional delay for loading the page\n",
    "browser.is_element_present_by_css('div.list_text', wait_time=1)"
   ]
  },
  {
   "cell_type": "code",
   "execution_count": 4,
   "metadata": {},
   "outputs": [],
   "source": [
    "# Convert the browser html to a soup object and then quit the browser\n",
    "html = browser.html\n",
    "news_soup = soup(html, 'html.parser')\n",
    "\n",
    "slide_elem = news_soup.select_one('div.list_text')"
   ]
  },
  {
   "cell_type": "code",
   "execution_count": 5,
   "metadata": {},
   "outputs": [
    {
     "data": {
      "text/plain": [
       "<div class=\"content_title\">NASA's Mars 2020 Heads Into the Test Chamber</div>"
      ]
     },
     "execution_count": 5,
     "metadata": {},
     "output_type": "execute_result"
    }
   ],
   "source": [
    "slide_elem.find('div', class_='content_title')"
   ]
  },
  {
   "cell_type": "code",
   "execution_count": 6,
   "metadata": {},
   "outputs": [
    {
     "data": {
      "text/plain": [
       "\"NASA's Mars 2020 Heads Into the Test Chamber\""
      ]
     },
     "execution_count": 6,
     "metadata": {},
     "output_type": "execute_result"
    }
   ],
   "source": [
    "# Use the parent element to find the first a tag and save it as `news_title`\n",
    "news_title = slide_elem.find('div', class_='content_title').get_text()\n",
    "news_title"
   ]
  },
  {
   "cell_type": "code",
   "execution_count": 7,
   "metadata": {},
   "outputs": [
    {
     "data": {
      "text/plain": [
       "'In this time-lapse video taken at JPL, engineers move the Mars 2020 rover into a large vacuum chamber for testing in Mars-like environmental conditions.'"
      ]
     },
     "execution_count": 7,
     "metadata": {},
     "output_type": "execute_result"
    }
   ],
   "source": [
    "# Use the parent element to find the paragraph text\n",
    "news_p = slide_elem.find('div', class_='article_teaser_body').get_text()\n",
    "news_p"
   ]
  },
  {
   "cell_type": "markdown",
   "metadata": {},
   "source": [
    "### JPL Space Images Featured Image"
   ]
  },
  {
   "cell_type": "code",
   "execution_count": 8,
   "metadata": {},
   "outputs": [],
   "source": [
    "# Visit URL\n",
    "url = 'https://spaceimages-mars.com'\n",
    "browser.visit(url)"
   ]
  },
  {
   "cell_type": "code",
   "execution_count": 9,
   "metadata": {},
   "outputs": [],
   "source": [
    "# Find and click the full image button\n",
    "full_image_elem = browser.find_by_tag('button')[1]\n",
    "full_image_elem.click()"
   ]
  },
  {
   "cell_type": "code",
   "execution_count": 10,
   "metadata": {
    "scrolled": true
   },
   "outputs": [
    {
     "data": {
      "text/plain": [
       "<html class=\"fancybox-margin fancybox-lock\"><head>\n",
       "<meta charset=\"utf-8\"/>\n",
       "<meta content=\"width=device-width, initial-scale=1\" name=\"viewport\"/>\n",
       "<link href=\"https://maxcdn.bootstrapcdn.com/bootstrap/4.0.0/css/bootstrap.min.css\" rel=\"stylesheet\"/>\n",
       "<!-- <link rel=\"stylesheet\" type=\"text/css\" href=\"css/font.css\"> -->\n",
       "<link href=\"css/app.css\" rel=\"stylesheet\" type=\"text/css\"/>\n",
       "<link href=\"https://stackpath.bootstrapcdn.com/font-awesome/4.7.0/css/font-awesome.min.css\" rel=\"stylesheet\" type=\"text/css\"/>\n",
       "<title>Space Image</title>\n",
       "<style type=\"text/css\">.fancybox-margin{margin-right:17px;}</style></head>\n",
       "<body>\n",
       "<div class=\"header\">\n",
       "<nav class=\"navbar navbar-expand-lg\">\n",
       "<a class=\"navbar-brand\" href=\"#\"><img id=\"logo\" src=\"image/nasa.png\"/><span class=\"logo\">Jet Propulsion Laboratory</span>\n",
       "<span class=\"logo1\">California Institute of Technology</span></a>\n",
       "<button aria-controls=\"navbarNav\" aria-expanded=\"false\" aria-label=\"Toggle navigation\" class=\"navbar-toggler\" data-target=\"#navbarNav\" data-toggle=\"collapse\" type=\"button\">\n",
       "<span class=\"navbar-toggler-icon\"></span>\n",
       "</button>\n",
       "<div class=\"collapse navbar-collapse justify-content-end\" id=\"navbarNav\">\n",
       "<ul class=\"navbar-nav\">\n",
       "<li class=\"nav-item active\">\n",
       "<a class=\"nav-link\" href=\"#\"><i aria-hidden=\"true\" class=\"fa fa-bars\"></i>   MENU   <i aria-hidden=\"true\" class=\"fa fa-search\"></i></a>\n",
       "</li>\n",
       "</ul>\n",
       "</div>\n",
       "</nav>\n",
       "<div class=\"floating_text_area\">\n",
       "<h2 class=\"brand_title\">FEATURED IMAGE</h2>\n",
       "<h1 class=\"media_feature_title\">Dusty Space Cloud</h1>\n",
       "<br/>\n",
       "<a class=\"showimg fancybox-thumbs\" href=\"image/featured/mars2.jpg\" target=\"_blank\"> <button class=\"btn btn-outline-light\"> FULL IMAGE</button></a>\n",
       "</div>\n",
       "<img class=\"headerimage fade-in\" src=\"image/featured/mars2.jpg\"/></div>\n",
       "<div class=\"search sticky\">\n",
       "<div class=\"col-md-12\">\n",
       "<div class=\"row\">\n",
       "<div class=\"col-md-6\">\n",
       "<input name=\"Search\" placeholder=\"Search\" type=\"text\"/>\n",
       "</div>\n",
       "<div class=\"col-md-6\">\n",
       "<select aria-label=\"Default select example\" class=\"form-select\" id=\"options\">\n",
       "<option onchange=\"0\" selected=\"\">Mars</option>\n",
       "<!-- <option data-filter=\"sun\" class=\"button\">Mars</option> -->\n",
       "<option class=\"button\" data-filter=\"Sun\">Sun</option>\n",
       "<option class=\"button\" data-filter=\"earth\">Earth</option>\n",
       "<option class=\"button\" data-filter=\"ida\">Ida</option>\n",
       "<option class=\"button\" data-filter=\"jupiter\">Jupiter</option>\n",
       "<option class=\"button\" data-filter=\"venus\">Venus</option>\n",
       "</select>\n",
       "</div>\n",
       "</div>\n",
       "</div>\n",
       "</div>\n",
       "<div class=\"container mt-5\">\n",
       "<div class=\"col-md-12\">\n",
       "<div class=\"row\">\n",
       "<div class=\"col-md-6\">\n",
       "<h1>Images</h1>\n",
       "</div>\n",
       "<div class=\"col-md-6\" id=\"icon\">\n",
       "<div class=\"icon2\"></div>\n",
       "<div class=\"icon1\"></div>\n",
       "</div>\n",
       "</div>\n",
       "</div>\n",
       "<!-- first div -->\n",
       "<div class=\"div1\" id=\"filter\">\n",
       "<div class=\"thmbgroup\"><a class=\"fancybox-thumbs\" data-fancybox-group=\"thumb\" href=\"image/mars/Icaria Fossae7.jpg\"><div class=\"thmb\"><img alt=\"\" class=\"thumbimg\" src=\"image/mars/Icaria Fossae7.jpg\"/><p class=\"thumbcontent\">January 1, 2020<br/>Icaria Fossae7</p></div></a><a class=\"fancybox-thumbs\" data-fancybox-group=\"thumb\" href=\"image/mars/Proctor Crater Dunes 7.jpg\"><div class=\"thmb\"><img alt=\"\" class=\"thumbimg\" src=\"image/mars/Proctor Crater Dunes 7.jpg\"/><p class=\"thumbcontent\">December 31, 2020<br/>Proctor Crater Dunes</p></div></a><a class=\"fancybox-thumbs\" data-fancybox-group=\"thumb\" href=\"image/mars/Icaria Fossae7.jpg\"><div class=\"thmb\"><img alt=\"\" class=\"thumbimg\" src=\"image/mars/Icaria Fossae7.jpg\"/><p class=\"thumbcontent\">December 31, 2020<br/>Icaria Fossae</p></div></a><a class=\"fancybox-thumbs\" data-fancybox-group=\"thumb\" href=\"image/mars/Proctor Crater Dunes 7.jpg\"><div class=\"thmb\"><img alt=\"\" class=\"thumbimg\" src=\"image/mars/Proctor Crater Dunes 7.jpg\"/><p class=\"thumbcontent\">December 29, 2020<br/>Proctor Crater Dunes</p></div></a><a class=\"fancybox-thumbs\" data-fancybox-group=\"thumb\" href=\"image/mars/Proctor Crater Dunes 7.jpg\"><div class=\"thmb\"><img alt=\"\" class=\"thumbimg\" src=\"image/mars/Proctor Crater Dunes 7.jpg\"/><p class=\"thumbcontent\">December 28, 2020<br/>roctor Crater Dunes</p></div></a><a class=\"fancybox-thumbs\" data-fancybox-group=\"thumb\" href=\"image/mars/Icaria Fossae7.jpg\"><div class=\"thmb\"><img alt=\"\" class=\"thumbimg\" src=\"image/mars/Icaria Fossae7.jpg\"/><p class=\"thumbcontent\">December 22, 2020<br/>Icaria Fossae</p></div></a><a class=\"fancybox-thumbs\" data-fancybox-group=\"thumb\" href=\"image/mars/Icaria Fossae.jpg\"><div class=\"thmb\"><img alt=\"\" class=\"thumbimg\" src=\"image/mars/Icaria Fossae.jpg\"/><p class=\"thumbcontent\">December 21, 2020<br/>Icaria Fossae</p></div></a><a class=\"fancybox-thumbs\" data-fancybox-group=\"thumb\" href=\"image/mars/Ariadnes Colles4.jpg\"><div class=\"thmb\"><img alt=\"\" class=\"thumbimg\" src=\"image/mars/Ariadnes Colles4.jpg\"/><p class=\"thumbcontent\">December 18, 2020<br/>Ariadnes Colles</p></div></a><a class=\"fancybox-thumbs\" data-fancybox-group=\"thumb\" href=\"image/mars/Niger Vallis.jpg\"><div class=\"thmb\"><img alt=\"\" class=\"thumbimg\" src=\"image/mars/Niger Vallis.jpg\"/><p class=\"thumbcontent\">December 17, 2020<br/>Niger Vallis</p></div></a><a class=\"fancybox-thumbs\" data-fancybox-group=\"thumb\" href=\"image/mars/Proctor Crater Dunes.jpg\"><div class=\"thmb\"><img alt=\"\" class=\"thumbimg\" src=\"image/mars/Proctor Crater Dunes.jpg\"/><p class=\"thumbcontent\">December 16, 2020<br/>Proctor Crater Dunes</p></div></a><a class=\"fancybox-thumbs\" data-fancybox-group=\"thumb\" href=\"image/mars/Niger Vallis.jpg\"><div class=\"thmb\"><img alt=\"\" class=\"thumbimg\" src=\"image/mars/Niger Vallis.jpg\"/><p class=\"thumbcontent\">December 15, 2020<br/>Niger Vallis</p></div></a><a class=\"fancybox-thumbs\" data-fancybox-group=\"thumb\" href=\"image/mars/Daedalia Planum.jpg\"><div class=\"thmb\"><img alt=\"\" class=\"thumbimg\" src=\"image/mars/Daedalia Planum.jpg\"/><p class=\"thumbcontent\">December 11, 2020<br/>Daedalia Planum</p></div></a><a class=\"fancybox-thumbs\" data-fancybox-group=\"thumb\" href=\"image/mars/Sirenum Fossae.jpg\"><div class=\"thmb\"><img alt=\"\" class=\"thumbimg\" src=\"image/mars/Sirenum Fossae.jpg\"/><p class=\"thumbcontent\">November,11, 2020<br/>Sirenum Fossae</p></div></a><a class=\"fancybox-thumbs\" data-fancybox-group=\"thumb\" href=\"image/mars/Ariadnes Colles4.jpg\"><div class=\"thmb\"><img alt=\"\" class=\"thumbimg\" src=\"image/mars/Ariadnes Colles4.jpg\"/><p class=\"thumbcontent\">November,13, 2020<br/>Ariadnes Colles</p></div></a><a class=\"fancybox-thumbs\" data-fancybox-group=\"thumb\" href=\"image/mars/South Polar Cap.jpg\"><div class=\"thmb\"><img alt=\"\" class=\"thumbimg\" src=\"image/mars/South Polar Cap.jpg\"/><p class=\"thumbcontent\">November,14, 2020<br/>South Polar Cap</p></div></a><a class=\"fancybox-thumbs\" data-fancybox-group=\"thumb\" href=\"image/mars/Daedalia Planum.jpg\"><div class=\"thmb\"><img alt=\"\" class=\"thumbimg\" src=\"image/mars/Daedalia Planum.jpg\"/><p class=\"thumbcontent\">November,17, 2020<br/>Daedalia Planum</p></div></a><a class=\"fancybox-thumbs\" data-fancybox-group=\"thumb\" href=\"image/mars/Ariadnes Colles3.jpg\"><div class=\"thmb\"><img alt=\"\" class=\"thumbimg\" src=\"image/mars/Ariadnes Colles3.jpg\"/><p class=\"thumbcontent\">November,11, 2020<br/>Ariadnes Colles</p></div></a><a class=\"fancybox-thumbs\" data-fancybox-group=\"thumb\" href=\"image/mars/Atlantis Chaos.jpg\"><div class=\"thmb\"><img alt=\"\" class=\"thumbimg\" src=\"image/mars/Atlantis Chaos.jpg\"/><p class=\"thumbcontent\">November,09, 2020<br/>Atlantis Chaos</p></div></a><a class=\"fancybox-thumbs\" data-fancybox-group=\"thumb\" href=\"image/mars/Daedalia Planum.jpg\"><div class=\"thmb\"><img alt=\"\" class=\"thumbimg\" src=\"image/mars/Daedalia Planum.jpg\"/><p class=\"thumbcontent\">January 1, 2020<br/>Daedalia Planum</p></div></a><a class=\"fancybox-thumbs\" data-fancybox-group=\"thumb\" href=\"image/mars/Icaria Fossae.jpg\"><div class=\"thmb\"><img alt=\"\" class=\"thumbimg\" src=\"image/mars/Icaria Fossae.jpg\"/><p class=\"thumbcontent\">January 1, 2020<br/>Icaria Fossae</p></div></a><a class=\"fancybox-thumbs\" data-fancybox-group=\"thumb\" href=\"image/mars/Niger Vallis.jpg\"><div class=\"thmb\"><img alt=\"\" class=\"thumbimg\" src=\"image/mars/Niger Vallis.jpg\"/><p class=\"thumbcontent\">January 1, 2020<br/>Niger Vallis</p></div></a><a class=\"fancybox-thumbs\" data-fancybox-group=\"thumb\" href=\"image/mars/Proctor Crater Dunes.jpg\"><div class=\"thmb\"><img alt=\"\" class=\"thumbimg\" src=\"image/mars/Proctor Crater Dunes.jpg\"/><p class=\"thumbcontent\">January 1, 2020<br/>Proctor Crater Dunes</p></div></a><a class=\"fancybox-thumbs\" data-fancybox-group=\"thumb\" href=\"image/mars/Reull Vallis.jpg\"><div class=\"thmb\"><img alt=\"\" class=\"thumbimg\" src=\"image/mars/Reull Vallis.jpg\"/><p class=\"thumbcontent\">January 1, 2020<br/>Reull Vallis</p></div></a><a class=\"fancybox-thumbs\" data-fancybox-group=\"thumb\" href=\"image/mars/Ariadnes Colles3.jpg\"><div class=\"thmb\"><img alt=\"\" class=\"thumbimg\" src=\"image/mars/Ariadnes Colles3.jpg\"/><p class=\"thumbcontent\">January 1, 2020<br/>Ariadnes Colles</p></div></a><a class=\"fancybox-thumbs\" data-fancybox-group=\"thumb\" href=\"image/mars/Sirenum Fossae.jpg\"><div class=\"thmb\"><img alt=\"\" class=\"thumbimg\" src=\"image/mars/Sirenum Fossae.jpg\"/><p class=\"thumbcontent\">January 1, 2020<br/>Sirenum Fossae</p></div></a><a class=\"fancybox-thumbs\" data-fancybox-group=\"thumb\" href=\"image/mars/South Polar Cap.jpg\"><div class=\"thmb\"><img alt=\"\" class=\"thumbimg\" src=\"image/mars/South Polar Cap.jpg\"/><p class=\"thumbcontent\">January 1, 2020<br/>South Polar Cap</p></div></a><a class=\"fancybox-thumbs\" data-fancybox-group=\"thumb\" href=\"image/mars/Niger Vallis.jpg\"><div class=\"thmb\"><img alt=\"\" class=\"thumbimg\" src=\"image/mars/Niger Vallis.jpg\"/><p class=\"thumbcontent\">January 1, 2020<br/>Niger Vallis</p></div></a><a class=\"fancybox-thumbs\" data-fancybox-group=\"thumb\" href=\"image/mars/Daedalia Planum.jpg\"><div class=\"thmb\"><img alt=\"\" class=\"thumbimg\" src=\"image/mars/Daedalia Planum.jpg\"/><p class=\"thumbcontent\">January 1, 2020<br/>Daedalia Planum</p></div></a><a class=\"fancybox-thumbs\" data-fancybox-group=\"thumb\" href=\"image/mars/Icaria Fossae.jpg\"><div class=\"thmb\"><img alt=\"\" class=\"thumbimg\" src=\"image/mars/Icaria Fossae.jpg\"/><p class=\"thumbcontent\">January 1, 2020<br/>Icaria Fossae</p></div></a><a class=\"fancybox-thumbs\" data-fancybox-group=\"thumb\" href=\"image/mars/Ariadnes Colles4.jpg\"><div class=\"thmb\"><img alt=\"\" class=\"thumbimg\" src=\"image/mars/Ariadnes Colles4.jpg\"/><p class=\"thumbcontent\">January 1, 2020<br/>Ariadnes Colles</p></div></a><a class=\"fancybox-thumbs\" data-fancybox-group=\"thumb\" href=\"image/mars/South Polar Cap.jpg\"><div class=\"thmb\"><img alt=\"\" class=\"thumbimg\" src=\"image/mars/South Polar Cap.jpg\"/><p class=\"thumbcontent\">January 1, 2020<br/>South Polar Cap</p></div></a><a class=\"fancybox-thumbs\" data-fancybox-group=\"thumb\" href=\"image/mars/Daedalia Planum.jpg\"><div class=\"thmb\"><img alt=\"\" class=\"thumbimg\" src=\"image/mars/Daedalia Planum.jpg\"/><p class=\"thumbcontent\">January 1, 2020<br/>Daedalia Planum</p></div></a></div>\n",
       "</div>\n",
       "<!-- first div ends -->\n",
       "<!-- second div starts -->\n",
       "<div class=\"col-md-12 grid-margin\" id=\"column\">\n",
       "<ul class=\"post-list\">\n",
       "<li class=\"post-heading\"></li>\n",
       "</ul>\n",
       "</div>\n",
       "<!-- second div starts -->\n",
       "</div>\n",
       "<div class=\"first imgcontainer mt-3\">\n",
       "<div class=\"col-md-12\">\n",
       "<div class=\"row\">\n",
       "<div class=\"col-md-3\">\n",
       "<img id=\"pic\" src=\"\"/>\n",
       "</div>\n",
       "</div>\n",
       "</div>\n",
       "</div>\n",
       "<!-- end -->\n",
       "<div class=\"module_gallery container\">\n",
       "<div class=\"col-md-12\">\n",
       "<div class=\"row\">\n",
       "<div class=\"col-md-6\">\n",
       "<div class=\"card\">\n",
       "<img alt=\"Card image cap\" class=\"card-img-top\" src=\"https://www.jpl.nasa.gov/assets/images/content/tmp/images/jpl_photojournal(3x1).jpg\"/>\n",
       "<div class=\"card-body\">\n",
       "<h5 class=\"card-title\">JPL Photojournal</h5>\n",
       "<p class=\"card-text\">Access to the full library of publicly released images from various Solar System exploration programs</p>\n",
       "</div>\n",
       "</div>\n",
       "</div>\n",
       "<div class=\"col-md-6\">\n",
       "<div class=\"card\">\n",
       "<img alt=\"Card image cap\" class=\"card-img-top\" src=\"https://www.jpl.nasa.gov/assets/images/content/tmp/images/nasa_images(3x1).jpg\"/>\n",
       "<div class=\"card-body\">\n",
       "<h5 class=\"card-title\">Great images in NASA</h5>\n",
       "<p class=\"card-text\">A selection of the best-known images from a half-century of exploration and discovery</p>\n",
       "</div>\n",
       "</div>\n",
       "</div>\n",
       "</div>\n",
       "</div>\n",
       "</div>\n",
       "<div class=\"multi_teaser\">\n",
       "<div class=\"container\">\n",
       "<h1>You Might Also Like</h1>\n",
       "<div class=\"col-md-12 mt-5\">\n",
       "<div class=\"row\">\n",
       "<div class=\"col-md-4\">\n",
       "<div class=\"card\">\n",
       "<img alt=\"Card image cap\" class=\"card-img-top\" src=\"https://imagecache.jpl.nasa.gov/images/640x350/C1-PIA24304---CatScanMars-16-640x350.gif\"/>\n",
       "<div class=\"card-body\">\n",
       "<p class=\"card-text\">Access to the full library of publicly released images from various Solar System exploration programs</p>\n",
       "</div>\n",
       "</div>\n",
       "</div>\n",
       "<div class=\"col-md-4\">\n",
       "<div class=\"card\">\n",
       "<img alt=\"Card image cap\" class=\"card-img-top\" src=\"https://imagecache.jpl.nasa.gov/images/640x350/PIA23491-16-640x350.jpg\"/>\n",
       "<div class=\"card-body\">\n",
       "<p class=\"card-text\">Access to the full library of publicly released images from various Solar System exploration programs</p>\n",
       "</div>\n",
       "</div>\n",
       "</div>\n",
       "<div class=\"col-md-4\">\n",
       "<div class=\"card\">\n",
       "<img alt=\"Card image cap\" class=\"card-img-top\" src=\"https://imagecache.jpl.nasa.gov/images/640x350/C1-PIA23180-16-640x350.gif\"/>\n",
       "<div class=\"card-body\">\n",
       "<p class=\"card-text\">Access to the full library of publicly released images from various Solar System exploration programs</p>\n",
       "</div>\n",
       "</div>\n",
       "</div>\n",
       "</div>\n",
       "</div>\n",
       "</div>\n",
       "</div>\n",
       "<div class=\"footer\">\n",
       "<div class=\"container\">\n",
       "<div class=\"col-md-12\">\n",
       "<div class=\"row\">\n",
       "<div class=\"col-md-3\">\n",
       "<h4>About JPL</h4>\n",
       "<ul>\n",
       "<li>About JPL</li>\n",
       "<li>JPL Vision</li>\n",
       "<li>Executive Council</li>\n",
       "<li>History</li>\n",
       "</ul>\n",
       "</div>\n",
       "<div class=\"col-md-3\">\n",
       "<h4>Education</h4>\n",
       "<ul>\n",
       "<li>Intern</li>\n",
       "<li>Learn</li>\n",
       "<li>Teach</li>\n",
       "<li>News</li>\n",
       "</ul>\n",
       "</div>\n",
       "<div class=\"col-md-3\">\n",
       "<h4>Our Sites</h4>\n",
       "<ul>\n",
       "<li>Asteroid Watch</li>\n",
       "<li>Basics of Spaceflight</li>\n",
       "<li>Cassini - Mission to Saturn</li>\n",
       "<li>Climate Kids</li>\n",
       "</ul>\n",
       "</div>\n",
       "<div class=\"col-md-3\">\n",
       "<h4>Galleries</h4>\n",
       "<ul>\n",
       "<li>JPL Space Images</li>\n",
       "<li>Videos</li>\n",
       "<li>Infographics</li>\n",
       "<li>Photojournal</li>\n",
       "</ul>\n",
       "</div>\n",
       "</div>\n",
       "</div>\n",
       "</div>\n",
       "</div>\n",
       "<!--<div class=\"showFullimage\">\n",
       "\t<button class=\"btn btn-outline-light hideimage\" onclick=hideimage()> Close</button>\n",
       "\t<img class=\"fullimage fade-in\" src=\"\">\n",
       "</div>-->\n",
       "<!-- <script src=\"js/jquery.easeScroll.js\"></script>  -->\n",
       "<script src=\"js/jquery-3.5.1.min.js\"></script>\n",
       "<!-- <script src=\"js/jquery-3.2.1.slim.min.js\"></script> -->\n",
       "<script src=\"js/demo.js\"></script>\n",
       "<!-- <script src=\"js/app.js\"></script> -->\n",
       "<script src=\"https://cdnjs.cloudflare.com/ajax/libs/popper.js/1.12.9/umd/popper.min.js\"></script>\n",
       "<script src=\"https://maxcdn.bootstrapcdn.com/bootstrap/4.0.0/js/bootstrap.min.js\"></script>\n",
       "<script src=\"js/fancyBox/jquery.fancybox.pack.js?v=2.1.5\" type=\"text/javascript\"></script>\n",
       "<link href=\"js/fancyBox/jquery.fancybox.css?v=2.1.5\" media=\"screen\" rel=\"stylesheet\" type=\"text/css\"/>\n",
       "<link href=\"js/fancyBox/helpers/jquery.fancybox-thumbs.css?v=1.0.7\" rel=\"stylesheet\" type=\"text/css\"/>\n",
       "<script src=\"js/fancyBox/helpers/jquery.fancybox-thumbs.js?v=1.0.7\" type=\"text/javascript\"></script>\n",
       "<style>a[href^=\"http://fusionads.net\"],a[href^=\"https://deliver.tf2www.com/\"],a[href^=\"https://track.interactivegf.com/\"],div[id^=\"advads-\"],a[href^=\"https://wantopticalfreelance.com/\"],app-advertisement,a[href^=\"https://aaucwbe.com/\"],a[href^=\"http://cdn3.adexprts.com/\"],iframe[id^=\"google_ads_frame\"],a[href^=\"http://www.quick-torrent.com/download.html?aff\"],a[href^=\"http://affiliates.lifeselector.com/\"],a[href^=\"http://amzn.to/\"] > img[src^=\"data\"],a[href^=\"http://cdn.adsrvmedia.net/\"],a[href^=\"http://adserver.adtech.de/\"],a[href^=\"https://goraps.com/\"],a[href^=\"http://pityhostngco2.xyz/\"],AMP-AD,a[href^=\"https://vlnk.me/\"],a[href^=\"https://bestcond1tions.com/\"],a[href^=\"http://imads.integral-marketing.com/\"],[id^=\"bunyad-widget-ads-\"],a[href^=\"https://track.totalav.com/\"],a[href^=\"https://mmwebhandler.aff-online.com/\"],div[class^=\"ResponsiveAd-\"],a[href^=\"https://adsrv4k.com/\"],[href^=\"https://freecourseweb.com/\"] > .sitefriend,a[href^=\"https://dediseedbox.com/clients/aff.php?\"],a[href^=\"https://trk.moviesflix4k.xyz/\"],a[href^=\"https://moneynow.one/\"],a[href^=\"https://www.oboom.com/ad/\"],a[href^=\"http://d2.zedo.com/\"],hl-adsense,[data-ad-cls],a[href^=\"http://api.content.ad/\"],div[class^=\"articleAdUnitMPU_\"],a[href^=\"http://www.bluehost.com/track/\"] > img,a[href^=\"https://track.52zxzh.com/\"],a[href^=\"http://adserving.unibet.com/\"],a[href^=\"https://cagothie.net/\"],a[href^=\"https://pcm.bannerator.com/\"],a[href^=\"http://www.greenmangaming.com/?tap_a=\"],a[href^=\"https://trusted-click-host.com/\"],a[href^=\"https://bs.serving-sys.com\"],a[href^=\"http://www.idownloadplay.com/\"],a[href^=\"http://linksnappy.com/?ref=\"],div[id^=\"adspot-\"],a[href^=\"https://track.themadtrcker.com/\"],a[href^=\"//postlnk.com/\"],a[href^=\"https://go.xxxjmp.com\"],a[href^=\"https://creacdn.top-convert.com/\"],[lazy-ad=\"top_banner\"],div[class^=\"awpcp-random-ads\"],a[href^=\"https://ttf.trmobc.com/\"],a[href^=\"http://t.wowtrk.com/\"],a[href^=\"https://go.cmrdr.com/\"],a[href^=\"https://ads.trafficpoizon.com/\"],div[id^=\"zergnet-widget\"],a[href^=\"https://www.travelzoo.com/oascampaignclick/\"],[href^=\"http://join.shemalesfromhell.com/\"],[href^=\"https://r.kraken.com/\"],a[href^=\"https://misspkl.com/\"],a[href^=\"https://secure.eveonline.com/ft/?aid=\"],a[href^=\"https://redsittalvetoft.pro/\"],a[href^=\"https://t.hrtye.com/\"],div[class^=\"pane-adsense-managed-\"],div[class^=\"BannerAd_\"],ad-desktop-sidebar,a[href^=\"https://www.dollps.com/?track=\"],a[href^=\"https://www.goldenfrog.com/vyprvpn?offer_id=\"][href*=\"&aff_id=\"],a[href^=\"http://refpa.top/\"],[href*=\".engine.adglare.net/\"],[lazy-ad=\"leftbottom_banner\"],div[data-google-query-id],[href^=\"https://www.reimageplus.com/\"],a[href^=\"https://www.oboom.com/ref/\"],a[href^=\"https://www.googleadservices.com/pagead/aclk?\"],a[href^=\"https://members.linkifier.com/public/affiliateLanding?refCode=\"],div[class^=\"index_adBeforeContent_\"],div[id^=\"_vdo_ads_player_ai_\"],a[href^=\"http://adrunnr.com/\"],a[href^=\"http://go.mobisla.com/\"],a[href^=\"http://down1oads.com/\"],a[href^=\"https://t.grtyi.com/\"],div[class^=\"Ad__bigBox\"],a[href^=\"https://vo2.qrlsx.com/\"],a[href^=\"http://www.flashx.tv/downloadthis\"],a[href^=\"http://z1.zedo.com/\"],a[href^=\"https://www.arthrozene.com/\"][href*=\"?tid=\"],a[href^=\"https://www.clicktraceclick.com/\"],div[id^=\"gtm-ad-\"],div[class^=\"hp-ad-rect-\"],a[href^=\"https://track.bruceads.com/\"],div[id^=\"div-ads-\"],a[href^=\"https://www.adxtro.com/\"],a[href^=\"https://transfer.xe.com/signup/track/redirect?\"],a[href^=\"http://farm.plista.com/pets\"],a[data-url^=\"http://paid.outbrain.com/network/redir?\"],a[href^=\"https://www.chngtrack.com/\"],a[href^=\"https://oackoubs.com/\"],a[href^=\"http://ad-emea.doubleclick.net/\"],a[href^=\"https://www.g4mz.com/\"],a[href^=\"http://www.uniblue.com/cm/\"],a[href^=\"https://uncensored3d.com/\"],a[href^=\"http://guideways.info/\"],a[href^=\"https://go.hpyrdr.com/\"],[href^=\"http://go.cm-trk2.com/\"],a[href^=\"http://partners.etoro.com/\"],a[href^=\"https://www.oneclickroot.com/?tap_a=\"] > img,[href^=\"https://join3.bannedsextapes.com\"],a[href^=\"https://scurewall.co/\"],a[href^=\"http://www.menaon.com/installs/\"],a[href^=\"https://adserver.adreactor.com/\"],a[href^=\"https://go.247traffic.com/\"],span[data-component-type=\"s-ads-metrics\"],a[href^=\"https://uncensored.game/\"],a[href^=\"https://www.hotgirls4fuck.com/\"],a[href^=\"http://www.usearchmedia.com/signup?\"],[href^=\"https://traffserve.com/\"],a[href^=\"http://www.friendlyquacks.com/\"],a[href^=\"https://awptjmp.com/\"],[id*=\"MGWrap\"],a[onmousedown^=\"this.href='http://paid.outbrain.com/network/redir?\"][target=\"_blank\"],a[href^=\"http://www.xmediaserve.com/\"],a[href^=\"https://deliver.ptgncdn.com/\"],a[href^=\"https://maymooth-stopic.com/\"],a[href^=\"http://zevera.com/afi.html\"],a[href^=\"http://k2s.cc/pr/\"],a[href^=\"https://cams.imagetwist.com/in/?track=\"],a[href^=\"http://paid.outbrain.com/network/redir?\"],guj-ad,a[href^=\"http://vo2.qrlsx.com/\"],a[href^=\"http://www.1clickdownloader.com/\"],a[href^=\"http://www.bitlord.me/share/\"],a[href^=\"https://msecure117.com/\"],a[href^=\"https://go.ebrokerserve.com/\"],a[href^=\"https://porndeals.com/?track=\"],a[href^=\"http://rs-stripe.wsj.com/stripe/redirect\"],div[id^=\"ad-server-\"],a[href^=\"https://trust.zone/go/r.php?RID=\"],a[href^=\"https://galaxyroms.net/?scr=\"],a[href^=\"http://semi-cod.com/clicks/\"],a[href^=\"http://look.djfiln.com/\"],iframe[src^=\"http://ad.yieldmanager.com/\"],div[class^=\"kiwi-ad-wrapper\"],a[href^=\"https://gghf.mobi/\"],a[href^=\"http://adsrv.keycaptcha.com\"],a[href^=\"https://clicks.pipaffiliates.com/\"],a[href^=\"http://www.hibids10.com/\"],a[href^=\"https://aweptjmp.com/\"],a[href^=\"http://refer.webhostingbuzz.com/\"],[data-css-class=\"dfp-inarticle\"],div[id^=\"ad_rect_\"],a[href^=\"https://www.privateinternetaccess.com/\"] > img,a[href^=\"http://vinfdv6b4j.com/\"],a[href^=\"http://www.linkbucks.com/referral/\"],div[class^=\"s-dfp-\"],[href^=\"http://join.rodneymoore.com/\"],a[href^=\"http://engine.newsmaxfeednetwork.com/\"],a[href^=\"http://ffxitrack.com/\"],a[href^=\"https://secure.bstlnk.com/\"],a[href^=\"https://bullads.net/get/\"],a[href^=\"http://download-performance.com/\"],a[href^=\"https://incisivetrk.cvtr.io/click?\"],a[href^=\"http://chaturbate.com/affiliates/\"],a[href^=\"https://juicyads.in/\"],a[href^=\"http://buysellads.com/\"],[href^=\"http://advertisesimple.info/\"],a[href^=\"https://camfapr.com/landing/click/\"],a[href^=\"https://graizoah.com/\"],div[class^=\"sp-adslot-\"],a[href^=\"http://www.clkads.com/adServe/\"],a[href^=\"http://adclick.g.doubleclick.net/\"],a[href^=\"http://click.payserve.com/\"],a[href^=\"http://sharesuper.info/\"],a[href^=\"http://track.afcpatrk.com/\"],div[class^=\"StickyHeroAdWrapper-\"],a[href^=\"https://easygamepromo.com/ef/custom_affiliate/\"],a[href^=\"http://xads.zedo.com/\"],a[data-oburl^=\"http://paid.outbrain.com/network/redir?\"],a[href^=\"http://srvpub.com/\"],a[href^=\"http://elitefuckbook.com/\"],[href^=\"https://join.girlsoutwest.com/\"],a[href^=\"https://porntubemate.com/\"],a[href^=\"http://lp.ncdownloader.com/\"],a[href^=\"http://www.text-link-ads.com/\"],div[data-id-advertdfpconf],a[href^=\"http://adlev.neodatagroup.com/\"],a[href^=\"http://ads2.williamhill.com/redirect.aspx?\"],a[href^=\"//coarsewary.com/\"],a[href^=\"https://www.sheetmusicplus.com/?aff_id=\"],a[href^=\"//benoopto.com/\"],[href^=\"http://join.michelle-austin.com/\"],a[href^=\"http://mob1ledev1ces.com/\"],a[href^=\"http://go.247traffic.com/\"],a[href^=\"http://cwcams.com/landing/click/\"],LEADERBOARD-AD,[href^=\"/admdownload.php\"],a[href^=\"http://bc.vc/?r=\"],a[href^=\"http://adultgames.xxx/\"],a[href^=\"http://ucam.xxx/?utm_\"],div[aria-label=\"Ads\"],a[href^=\"https://s.zlink2.com/\"],a[href^=\"https://serve.awmdelivery.com/\"],a[href^=\"http://tc.tradetracker.net/\"] > img,div[id^=\"ad-inserter-\"],a[href^=\"https://torguard.net/aff.php\"] > img,a[href^=\"https://mediaserver.gvcaffiliates.com/renderBanner.do?\"],div[data-role=\"sidebarAd\"],div[class^=\"ads-partner-\"],a[href^=\"http://greensmoke.com/\"],a[href^=\"http://bluehost.com/track/\"],a[href^=\"https://retiremely.com/\"],a[href^=\"http://searchtabnew.com/\"],a[href^=\"https://join.dreamsexworld.com/\"],a[href^=\"http://cdn.adstract.com/\"],DFP-AD,a[href^=\"http://www.seekbang.com/cs/\"],a[href^=\"http://refpaano.host/\"],a[href^=\"http://secure.signup-page.com/\"],a[href^=\"http://www.webtrackerplus.com/\"],a[href^=\"https://landing1.brazzersnetwork.com\"],a[href^=\"//syndication.dynsrvtbg.com/\"],div[class^=\"Ad__adContainer\"],a[onmousedown^=\"this.href='https://paid.outbrain.com/network/redir?\"][target=\"_blank\"],[href^=\"https://wct.link/\"],a[href^=\"https://go.onclasrv.com/\"],a[href^=\"https://explore.findanswersnow.net/\"],[data-ad-width],a[href^=\"https://gogoman.me/\"],a[href^=\"https://tc.tradetracker.net/\"] > img,a[href^=\"https://geniusdexchange.com/\"],a[href^=\"http://www.amazon.co.uk/exec/obidos/external-search?\"],a[href^=\"//srv.buysellads.com/\"],a[href^=\"https://nutrientassumptionclaims.com/\"],a[href^=\"https://join.virtuallust3d.com/\"],a[href^=\"http://see.kmisln.com/\"],a[href^=\"http://www.advcashpro.com/aff/\"],a[href^=\"https://torrentsafeguard.com/?aid=\"],a[href^=\"http://pan.adraccoon.com?\"],a[href^=\"http://www.afgr2.com/\"],a[href^=\"http://affiliates.score-affiliates.com/\"],a[href^=\"https://offers.refchamp.com/\"],a[href^=\"http://get.slickvpn.com/\"],[data-mobile-ad-id],a[href^=\"http://join3.bannedsextapes.com/track/\"],a[href^=\"http://liversely.com/\"],div[id^=\"ad_bigbox_\"],a[href^=\"http://www.torntv-downloader.com/\"],a[href^=\"https://go.markets.com/visit/?bta=\"],a[href^=\"http://reallygoodlink.freehookupaffair.com/\"],a[href^=\"https://go.alxbgo.com/\"],a[href^=\"https://www.spyoff.com/\"],a[href^=\"https://windscribe.com/promo/\"],a[href^=\"https://queersodadults.com/\"],[data-ad-manager-id],a[href^=\"http://www.onclickmega.com/jump/next.php?\"],a[href^=\"http://mmo123.co/\"],app-large-ad,display-ads,[href^=\"https://rapidgator.net/article/premium/ref/\"],a[href^=\"http://axdsz.pro/\"],a[href^=\"https://chaturbate.jjgirls.com/?track=\"],bottomadblock,a[href^=\"https://bluedelivery.pro/\"],a[href^=\"https://chaturbate.com/affiliates/\"],a[href^=\"http://wgpartner.com/\"],a[href^=\"https://www.kingsoffetish.com/tour?partner_id=\"],a[href^=\"https://www.get-express-vpn.com/offer/\"],a[href^=\"http://trk.mdrtrck.com/\"],a[href^=\"https://jmp.awempire.com/\"],a[href^=\"https://agacelebir.com/\"],a[href^=\"https://meet-to-fuck.com/tds\"],a[href^=\"https://cpmspace.com/\"],a[href^=\"http://www.gfrevenge.com/landing/\"],a[href^=\"https://go.currency.com/\"],a[href^=\"http://www.pinkvisualpad.com/?revid=\"],a[href^=\"https://mediaserver.entainpartners.com/renderBanner.do?\"],[class^=\"div-gpt-ad\"],a[href^=\"http://www.on2url.com/app/adtrack.asp\"],div[class^=\"SponsoredAds\"],a[href^=\"https://traffic.bannerator.com/\"],a[href^=\"http://googleads.g.doubleclick.net/pcs/click\"],a[href^=\"http://www.ragazzeinvendita.com/?rcid=\"],a[href^=\"http://www.dl-provider.com/search/\"],a[href^=\"http://fsoft4down.com/\"],a[href^=\"http://hd-plugins.com/download/\"],a[href^=\"https://earandmarketing.com/\"],a[href^=\"https://secure.adnxs.com/clktrb?\"],a[href^=\"http://affiliates.pinnaclesports.com/processing/\"],a[href^=\"https://www.xvinlink.com/?a_fid=\"],a[href^=\"https://dianches-inchor.com/\"],a[href^=\"http://adprovider.adlure.net/\"],a[href^=\"http://s9kkremkr0.com/\"],div[data-before-content=\"advertisement\"],a[href^=\"http://at.atwola.com/\"],div[data-ad-wrapper],a[data-widget-outbrain-redirect^=\"http://paid.outbrain.com/network/redir?\"],[id^=\"div-gpt-ad\"],div[id^=\"ad_script_\"],a[href^=\"https://farm.plista.com/pets\"],a[href^=\"https://www.pornhat.com/\"][rel=\"nofollow\"],a[href^=\"http://aflrm.com/\"],div[class^=\"adsbutt_wrapper_\"],a[href^=\"https://trklvs.com/\"],div[id^=\"adngin-\"],div[data-mediatype=\"advertising\"],a[href^=\"https://track.trkinator.com/\"],a[href^=\"http://traffic.tc-clicks.com/\"],a[href^=\"https://www.share-online.biz/affiliate/\"],div[class^=\"local-feed-banner-ads\"],a[href^=\"http://www.firstload.com/affiliate/\"],a[href^=\"https://iactrivago.ampxdirect.com/\"],a[target=\"_blank\"][onmousedown=\"this.href^='http://paid.outbrain.com/network/redir?\"],a[href^=\"https://go.goaserv.com/\"],a[href^=\"https://go.trackitalltheway.com/\"],a[href^=\"https://go.goasrv.com/\"],a[href^=\"http://marketgid.com\"],a[href^=\"http://enter.anabolic.com/track/\"],a[href^=\"http://www.down1oads.com/\"],div[class^=\"ad_border_\"],a[href^=\"http://online.ladbrokes.com/promoRedirect?\"],a[href^=\"https://financeads.net/tc.php?\"],a[href^=\"https://mk-ads.com/\"],div[data-test-id=\"AdBannerWrapper\"],div[class^=\"proadszone-\"],a[href^=\"http://betahit.click/\"],a[href^=\"http://www.mysuperpharm.com/\"],a[href^=\"http://www.streamtunerhd.com/signup?\"],a[href^=\"https://keep2share.cc/pr/\"],a[href^=\"https://go.hpyjmp.com/\"],a[href^=\"http://ad.yieldmanager.com/\"],[href^=\"http://homemoviestube.com/\"],a[href^=\"https://click.a-ads.com/\"],div[data-adzone],a[href^=\"http://www.wantstraffic.com/\"],a[href^=\"https://ptapjmp.com/\"],a[href^=\"https://refpaano.host/\"],a[href^=\"https://frameworkdeserve.com/\"],[href^=\"https://secure.bmtmicro.com/servlets/\"],a[href^=\"https://go.gldrdr.com/\"],a[href^=\"https://pl.premium4kflix.website/\"],a[href^=\"//www.pd-news.com/\"],div[class^=\"block-openx-\"],div[id^=\"rc-widget-\"],div[id^=\"lazyad-\"],a[href^=\"https://tracking.truthfinder.com/?a=\"],a[href^=\"https://adclick.g.doubleclick.net/\"],div[id^=\"div-adtech-ad-\"],a[href^=\"https://leg.xyz/?track=\"],AD-SLOT,a[href^=\"https://www.rabbits.webcam/?id=\"],a[href^=\"http://www.fbooksluts.com/\"],a[href^=\"http://onclickads.net/\"],[href^=\"https://click2cvs.com/\"],a[href^=\"http://lp.ezdownloadpro.info/\"],a[href^=\"https://chaturbate.xyz/\"],div[data-dfp-id],a[href^=\"https://secure.cbdpure.com/aff/\"],div[data-insertion],display-ad-component,a[href^=\"https://prf.hn/click/\"][href*=\"/creativeref:\"] > img,div[class^=\"BlockAdvert-\"],a[href^=\"//thaudray.com/\"],a[href^=\"https://a.bestcontentoperation.top/\"],a[href^=\"https://ndt5.net/\"],div[class^=\"kiwiad-popup\"],a[href^=\"https://syndication.dynsrvtbg.com/\"],a[href^=\"https://m.do.co/c/\"] > img,[href^=\"/ucdownloader.php\"],div[class^=\"AdSlot__container\"],a[href^=\"http://static.fleshlight.com/images/banners/\"],a[href^=\"https://iac.ampxdirect.com/\"],a[href^=\"http://record.betsafe.com/\"],[href^=\"https://affiliate.fastcomet.com/\"] > img,div[id^=\"vuukle-ad-\"],a[href^=\"http://www.affiliates1128.com/processing/\"],a[href^=\"http://www.securegfm.com/\"],a[href^=\"http://servicegetbook.net/\"],a[href^=\"https://watchmygirlfriend.tv/\"],div[id^=\"advt-\"],a[href^=\"http://ads.betfair.com/redirect.aspx?\"],a[href^=\"http://dwn.pushtraffic.net/\"],a[href^=\"https://track.clickmoi.xyz/\"],a[href^=\"https://www.mypornstarcams.com/landing/click/\"],a[href^=\"http://www.mobileandinternetadvertising.com/\"],amp-embed[type=\"taboola\"],a[href^=\"http://www.adskeeper.co.uk/\"],a[href^=\"https://tracking.trackcasino.co/\"],div[id^=\"ad_position_\"],a[href^=\"http://bestorican.com/\"],a[href^=\"http://www.firstload.de/affiliate/\"],div[data-native_ad],div[class^=\"Ad__container\"],a[href^=\"https://burpee.xyz/\"],div[class^=\"AdhesionAd_\"],a[href^=\"https://traffdaq.com/\"],a[href^=\"https://syndication.optimizesrv.com/\"],a[href^=\"//lambingsyddir.com/\"],a[href^=\"https://awejmp.com/\"],[href^=\"https://go.astutelinks.com/\"],div[id^=\"traffective-ad-\"],a[href^=\"https://www.what-sexdating.com/\"],a[href^=\"http://bcntrack.com/\"],a[href^=\"http://clickserv.sitescout.com/\"],a[href^=\"https://dooloust.net/\"],[id^=\"adframe_wrap_\"],FBS-AD,a[href^=\"https://giftsale.co.uk/?utm_\"],[href^=\"http://join.shemale.xxx/\"],a[href^=\"https://cpartner.bdswiss.com/\"],[class^=\"AdvertisingSlot_\"],[name^=\"google_ads_iframe\"],a[href^=\"https://dynamicadx.com/\"],a[href^=\"http://secure.cbdpure.com/aff/\"],a[href^=\"http://intent.bingads.com/\"],a[href^=\"http://www.getyourguide.com/?partner_id=\"],a[href^=\"https://meet-sex-here.com/?u=\"],a[href^=\"https://www.bang.com/?aff=\"],aside[id^=\"adrotate_widgets-\"],a[href^=\"http://www.dealcent.com/register.php?affid=\"],a[href^=\"http://pubads.g.doubleclick.net/\"],a[href^=\"http://www.mrskin.com/tour\"],a[href^=\"https://tm-offers.gamingadult.com/\"],div[class^=\"AdItem-\"],a[href^=\"https://prf.hn/click/\"][href*=\"/camref:\"] > img,a[href^=\"https://offerforge.net/\"],a[href^=\"http://ads.sprintrade.com/\"],div[data-ad-targeting],a[href^=\"https://t.hrtyj.com/\"],a[href^=\"http://360ads.go2cloud.org/\"],a[href^=\"https://reachtrgt.com/\"],a[href^=\"http://media.paddypower.com/redirect.aspx?\"],a[href^=\"https://ausoafab.net/\"],a[href^=\"http://ad.au.doubleclick.net/\"],[href^=\"https://go.affiliatexe.com/\"],a[href^=\"https://track.effiliation.com/servlet/effi.click?\"] > img,a[href^=\"http://adtrack123.pl/\"],aside[id^=\"advads_ad_widget-\"],a[href^=\"https://t.adating.link/\"],a[href^=\"//www.mgid.com/\"],a[href^=\"http://hpn.houzz.com/\"],a[href^=\"https://fastestvpn.com/lifetime-special-deal?a_aid=\"],a[href^=\"http://www.tirerack.com/affiliates/\"],div[id^=\"proadszone-\"],[id^=\"ad_sky\"],a[href^=\"https://ad13.adfarm1.adition.com/\"],a[href^=\"https://content.oneindia.com/www/delivery/\"],a[href^=\"http://uploaded.net/ref/\"],a[href^=\"https://iqbroker.com/\"][href*=\"?aff=\"],div[id^=\"google_dfp_\"],a[href^=\"https://mcdlks.com/\"],a[href^=\"https://googleads.g.doubleclick.net/pcs/click\"],a[href^=\"http://finaljuyu.com/\"],a[href^=\"https://land.brazzersnetwork.com/landing/\"],a[href^=\"https://www.im88trk.com/\"],a[href^=\"http://click.plista.com/pets\"],a[href^=\"https://go.admjmp.com/\"],[class*=\"__adspot-title-container\"],div[class^=\"AdCard_\"],a[href^=\"https://landing.brazzersnetwork.com/\"],a[href^=\"https://meet-sexhere.com/\"],a[href^=\"https://playuhd.host/\"],div[class^=\"native-ad-\"],a[href^=\"http://k2s.cc/code/\"],a[href^=\"//pubads.g.doubleclick.net/\"],a[href^=\"http://affiliate.glbtracker.com/\"],a[href^=\"http://www.adultempire.com/unlimited/promo?\"][href*=\"&partner_id=\"],a[href^=\"http://igromir.info/\"],div[id^=\"yandex_ad\"],a[href^=\"http://yads.zedo.com/\"],a[href^=\"http://www.afgr3.com/\"],a[href^=\"http://record.sportsbetaffiliates.com.au/\"],a[href^=\"https://bnsjb1ab1e.com/\"],aa[href^=\"https://itubego.com/video-downloader/?affid=\"],a[href^=\"http://www.sfippa.com/\"],a[href^=\"https://someperceptionparade.com/\"],a[href^=\"http://fileboom.me/pr/\"],a[href^=\"https://www.vfreecams.com/in/?track=\"],a[href^=\"https://refpasrasw.world/\"],a[href^=\"https://fertilitycommand.com/\"],[href^=\"http://trafficare.net/\"],div[id^=\"amzn-assoc-ad\"],a[href^=\"http://adserver.adtechus.com/\"],[href^=\"/ucmini.php\"],a[href^=\"http://ad-apac.doubleclick.net/\"],a[data-redirect^=\"http://paid.outbrain.com/network/redir?\"],a[href^=\"https://affiliates.bet-at-home.com/processing/\"],a[href^=\"http://secure.hostgator.com/~affiliat/\"],a[href^=\"https://a.bestcontentweb.top/\"],a[href^=\"http://deloplen.com/\"],a[href^=\"https://www.purevpn.com/\"][href*=\"&utm_source=aff-\"],[data-freestar-ad],a[href^=\"https://secure.starsaffiliateclub.com/C.ashx?\"],a[href^=\"http://adf.ly/?id=\"],a[href^=\"http://web.adblade.com/\"],a[href^=\"http://campaign.bharatmatrimony.com/cbstrack/\"],div[data-adname],a[href^=\"https://prf.hn/click/\"][href*=\"/adref:\"] > img,a[href^=\"http://www.liversely.net/\"],a[href^=\"https://go.julrdr.com/\"],a[href^=\"https://www.friendlyduck.com/AF_\"],div[id^=\"dfp-ad-\"],a[href^=\"http://www.twinplan.com/AF_\"],a[href^=\"http://eclkmpsa.com/\"],a[href^=\"http://www.graboid.com/affiliates/\"],a[href^=\"https://chaturbate.com/in/?tour=\"],a[href^=\"http://allaptair.club/\"],[href^=\"https://www.mypillow.com/\"] > img,a[href^=\"https://ad.atdmt.com/\"],a[href^=\"https://ads.planetwin365affiliate.com/redirect.aspx?\"],a[href^=\"http://clkmon.com/adServe/\"],span[id^=\"ezoic-pub-ad-placeholder-\"],a[href^=\"https://go.etoro.com/\"] > img,a[href^=\"http://www.urmediazone.com/signup\"],a[href^=\"http://go.oclaserver.com/\"],a[href^=\"https://ads.ad4game.com/\"],a[href^=\"https://www.sugarinstant.com/?partner_id=\"],[data-ad-module],a[href^=\"http://reallygoodlink.extremefreegames.com/\"],div[data-test-id=\"AdDisplayWrapper\"],[data-template-type=\"nativead\"],a[href^=\"http://campaign.bharatmatrimony.com/track/\"],div[class^=\"kiwiad-desktop\"],a[href^=\"http://aff.ironsocket.com/\"],a[href^=\"http://wopertific.info/\"],a[href^=\"http://banners.victor.com/processing/\"],[href^=\"https://glersakr.com/\"],[href^=\"https://shrugartisticelder.com\"],iframe[src^=\"https://tpc.googlesyndication.com/\"],a[href^=\"http://www.adultdvdempire.com/?partner_id=\"][href*=\"&utm_\"],[href^=\"https://stvkr.com/\"],a[href^=\"https://trappist-1d.com/\"],a[href^=\"https://clixtrac.com/\"],a[href^=\"https://fonts.fontplace9.com/\"],a[href^=\"http://ethfw0370q.com/\"],a[href^=\"http://www.badoink.com/go.php?\"],a[href^=\"https://www.bebi.com\"],a[href^=\"https://look.utndln.com/\"],a[href^=\"http://istri.it/?\"],a[data-obtrack^=\"http://paid.outbrain.com/network/redir?\"],a[href^=\"http://www.cdjapan.co.jp/aff/click.cgi/\"],mq-programmatic-ad,a[href^=\"https://bongacams10.com/track?\"],a[href^=\"http://go.fpmarkets.com/\"],a[href^=\"https://pubads.g.doubleclick.net/\"],a[href^=\"https://www.popads.net/users/\"],a[href^=\"https://go.xtbaffiliates.com/\"],a[href^=\"https://partners.fxoro.com/click.php?\"],a[href^=\"https://mk-cdn.net/\"],a[href^=\"https://paid.outbrain.com/network/redir?\"],a[href^=\"https://claring-loccelkin.com/\"],a[href^=\"https://x.trafficandoffers.com/\"],a[href^=\"http://www.myfreepaysite.com/sfw_int.php?aid\"],a[href^=\"http://www.fonts.com/BannerScript/\"],[href^=\"https://infinitytrk.com/\"],a[href^=\"http://server.cpmstar.com/click.aspx?poolid=\"],a[href^=\"http://wxdownloadmanager.com/dl/\"],a[href^=\"https://a-ads.com/campaigns/\"],aside[id^=\"tn_ads_widget-\"],a[href^=\"https://refpaexhil.top/\"],a[href^=\"https://dltags.com/\"],div[id^=\"dfp-slot-\"],topadblock,a[href^=\"https://adhealers.com/\"],a[href^=\"https://adnetwrk.com/\"],a[href^=\"https://adswick.com/\"],a[href^=\"http://see-work.info/\"],[href^=\"https://www.hostg.xyz/aff_c\"] > img,a[href^=\"https://fakelay.com/\"],a[data-redirect^=\"https://paid.outbrain.com/network/redir?\"],[id^=\"bunyad_ads_\"],div[id^=\"div-gpt-\"],a[href^=\"http://czotra-32.com/\"],a[href^=\"https://delivery.porn.com/\"],a[href^=\"http://www.FriendlyDuck.com/\"],a[href^=\"http://www.123-reg.co.uk/affiliate2.cgi\"],div[class^=\"AdBannerWrapper-\"],a[href^=\"http://freesoftwarelive.com/\"],a[href^=\"http://www.downloadthesefiles.com/\"],a[href^=\"https://ads-for-free.com/click.php?\"],a[href^=\"http://n.admagnet.net/\"],div[data-contentexchange-widget],a[href^=\"http://www.socialsex.com/\"],a[href^=\"https://static.fleshlight.com/images/banners/\"],[href*=\".zlinkm.com/\"],a[href^=\"https://ads.leovegas.com/redirect.aspx?\"],div[id^=\"crt-\"][style],[href^=\"https://v.investologic.co.uk/\"],a[href^=\"https://www.sheetmusicplus.com/\"][href*=\"?aff_id=\"],a[href^=\"http://admrotate.iplayer.org/\"],a[href^=\"https://track.afcpatrk.com/\"],a[href^=\"https://betway.com/\"][href*=\"&a=\"],[href^=\"https://detachedbates.com/\"],[href^=\"https://join.playboyplus.com/track/\"],a[href^=\"https://join.sexworld3d.com/track/\"],a[href^=\"https://ismlks.com/\"],a[href^=\"https://go.ad2up.com/\"],a[href^=\"http://www.downloadplayer1.com/\"],a[href^=\"http://webtrackerplus.com/\"],a[href^=\"http://www.hitcpm.com/\"],a[href^=\"https://axdsz.pro/\"],a[href^=\"http://papi.mynativeplatform.com:80/pub2/\"],div[class^=\"Directory__footerAds\"],a[href^=\"https://wittered-mainging.com/\"],a[href^=\"https://www.awin1.com/cread.php?awinaffid=\"],a[href^=\"https://go.strpjmp.com/\"],a[href^=\"https://ads.betfair.com/redirect.aspx?\"],a[href^=\"https://www.brazzersnetwork.com/landing/\"],a[href^=\"http://us.marketgid.com\"],a[href^=\"https://t.aslnk.link/\"],a[href^=\"http://secure.vivid.com/track/\"],a[href^=\"https://www.gambling-affiliation.com/cpc/\"],div[class^=\"Display_displayAd\"],a[href^=\"http://adultfriendfinder.com/p/register.cgi?pid=\"],a[href^=\"http://c43a3cd8f99413891.com/\"],a[href^=\"http://www.adxpansion.com\"],a[href^=\"https://click.plista.com/pets\"],div[id^=\"adrotate_widgets-\"],a[href^=\"https://www.firstload.com/affiliate/\"],iframe[src^=\"https://pagead2.googlesyndication.com/\"],a[href^=\"http://hyperlinksecure.com/go/\"],a[href^=\"https://horny-pussies.com/tds\"],a[href^=\"http://clicks.binarypromos.com/\"],a[href^=\"http://www.revenuehits.com/\"],a[href^=\"https://tracking.gitads.io/\"],a[href^=\"http://c.jumia.io/\"],[class^=\"Ad-adContainer\"],[id*=\"MarketGid\"],div[class^=\"ad_position_\"],div[class^=\"index__adWrapper\"],a[href^=\"https://intrev.co/\"],div[data-adunit],div[id^=\"advads_\"],a[href^=\"https://topoffers.com/\"][href*=\"/?pid=\"],a[href^=\"http://pwrads.net/\"],a[href^=\"http://www.TwinPlan.com/AF_\"],div[data-ad-placeholder],a[href^=\"https://www.nutaku.net/signup/landing/\"],div[data-adunit-path],a[href^=\"http://go.ad2up.com/\"],a[href^=\"https://ak.hetaruwg.com/\"],div[data-content=\"Advertisement\"],a[href^=\"https://ad.zanox.com/ppc/\"] > img,a[href^=\"http://bodelen.com/\"],a[href^=\"http://affiliates.thrixxx.com/\"],a[href^=\"http://www.streamate.com/exports/\"],a[href^=\"https://t.mobtya.com/\"],a[href^=\"https://control.trafficfabrik.com/\"],a[href^=\"http://www.fleshlight.com/\"],a[href^=\"https://porngames.adult/?SID=\"],div[id^=\"ad-div-\"],a[href^=\"https://spygasm.com/track?\"],a[href^=\"http://www.downloadweb.org/\"],a[href^=\"http://casino-x.com/?partner\"],[href^=\"https://www.targetingpartner.com/\"],a[data-redirect^=\"this.href='http://paid.outbrain.com/network/redir?\"],div[class^=\"backfill-taboola-home-slot-\"],a[href^=\"http://www.paddypower.com/?AFF_ID=\"],a[href^=\"http://goldmoney.com/?gmrefcode=\"],a[href^=\"http://go.seomojo.com/tracking202/\"],[href^=\"http://globsads.com/\"],a[href^=\"https://go.trkclick2.com/\"],[href^=\"https://track.fiverr.com/visit/\"] > img,a[href^=\"https://www.bet365.com/\"][href*=\"affiliate=\"],a[href^=\"https://www.camsoda.com/enter.php?id=\"],div[jsdata*=\"CarouselPLA-\"][data-id^=\"CarouselPLA-\"],a[href^=\"http://findersocket.com/\"],a[href^=\"http://ads.expekt.com/affiliates/\"],a[href^=\"http://1phads.com/\"],a[href^=\"https://freeadult.games/\"],a[href^=\"http://dftrck.com/\"],[onclick^=\"location.href='http://www.reimageplus.com\"],a[href^=\"http://syndication.exoclick.com/\"],a[href^=\"http://xtgem.com/click?\"],span[title=\"Ads by Google\"],[id^=\"ad-wrap-\"],[href^=\"https://www.dcpodj3k5.com/\"],a[href^=\"https://sexsimulator.game/tab/?SID=\"],[id^=\"ad_slider\"],a[href^=\"https://as.conjectwatson.com/\"],a[onmousedown^=\"this.href='https://paid.outbrain.com/network/redir?\"][target=\"_blank\"] + .ob_source,a[href^=\"https://tour.mrskin.com/\"],a[href^=\"https://gamescarousel.com/\"],ADS-RIGHT,a[href^=\"https://natour.naughtyamerica.com/track/\"],a[href^=\"http://databass.info/\"],div[data-native-ad],div[id^=\"adfox_\"],div[class^=\"adUnit_\"],a[href^=\"https://www.mrskin.com/tour\"],div[id^=\"ad-gpt-\"],[id^=\"google_ads_iframe\"],a[onmousedown^=\"this.href='http://paid.outbrain.com/network/redir?\"][target=\"_blank\"] + .ob_source,a[href^=\"http://www.terraclicks.com/\"],a[href^=\"http://www.onwebcam.com/random?t_link=\"],a[href^=\"https://a-ads.com/?partner=\"],div[class^=\"index_adAfterContent_\"],a[href^=\"https://affcpatrk.com/\"],div[class^=\"advertisement-desktop\"],a[href^=\"http://play4k.co/\"],div[id^=\"ezoic-pub-ad-\"],a[href^=\"http://affiliate.coral.co.uk/processing/\"],a[href^=\"https://bngpt.com/\"],[href^=\"http://join.shemalepornstar.com/\"],a[href^=\"https://a.adtng.com/\"],div[id^=\"banner-ad-\"],a[href^=\"https://webroutetrk.com/\"],a[href^=\"http://www.bet365.com/\"][href*=\"affiliate=\"],div[id^=\"ad-cid-\"],a[href^=\"http://codec.codecm.com/\"],[href^=\"https://awbbjmp.com/\"],a[href^=\"http://feedads.g.doubleclick.net/\"],div[class^=\"adunit_\"],a[href^=\"https://ovb.im/\"],a[href^=\"https://ads.cdn.live/\"],a[href^=\"https://awentw.com/\"],a[href^=\"https://get.surfshark.net/aff_c?\"][href*=\"&aff_id=\"] > img,div[class^=\"Component-dfp-\"],a[href^=\"http://clickandjoinyourgirl.com/\"],a[href*=\".trust.zone\"],a[href^=\"http://hotcandyland.com/partner/\"],[data-role=\"tile-ads-module\"],[href^=\"http://www.pingperfect.com/aff.php\"],a[href^=\"http://ad.doubleclick.net/\"],a[href^=\"https://landing.brazzersplus.com/\"],a[href^=\"http://bcp.crwdcntrl.net/\"],a[href^=\"//voyeurhit.com/cs/\"],a[href^=\"//porngames.adult/?SID=\"],a[href^=\"https://fleshlight.sjv.io/\"],a[href^=\"https://ad.doubleclick.net/\"],a[href^=\"https://mob1ledev1ces.com/\"],a[href^=\"http://c.actiondesk.com/\"],[href^=\"https://mypillow.com/\"] > img,a[href^=\"https://click.hoolig.app/\"],a[href^=\"http://go.xtbaffiliates.com/\"],a[href^=\"https://trackjs.com/?utm_source\"],a[href^=\"http://landingpagegenius.com/\"],amp-ad-custom,AFS-AD,a[href^=\"http://galleries.securewebsiteaccess.com/\"],a[href^=\"http://https://www.get-express-vpn.com/offer/\"],a[data-url^=\"http://paid.outbrain.com/network/redir?\"] + .author,a[href^=\"http://www.my-dirty-hobby.com/?sub=\"],div[class^=\"adbanner_\"],a[href^=\"https://zononi.com/\"],a[href^=\"http://azmobilestore.co/\"],a[href^=\"http://install.securewebsiteaccess.com/\"],a[href^=\"http://track.trkvluum.com/\"],a[href^=\"http://www.adbrite.com/mb/commerce/purchase_form.php?\"],a[href^=\"http://ul.to/ref/\"],[href^=\"https://bulletprofitsmartlink.com/\"],div[class^=\"index_displayAd_\"],a[href^=\"https://track.healthtrader.com/\"],a[data-oburl^=\"https://paid.outbrain.com/network/redir?\"],a[href^=\"https://affiliate.rusvpn.com/click.php?\"],a[href^=\"https://albionsoftwares.com/\"],a[href^=\"http://www.download-provider.org/\"],a[href^=\"http://anonymous-net.com/\"],div[class^=\"AdEmbeded__AddWrapper\"],a[href^=\"http://www.fpcTraffic2.com/blind/in.cgi?\"],div[id^=\"taboola-stream-\"],[href^=\"https://shiftnetwork.infusionsoft.com/go/\"] > img,a[href^=\"https://track.wg-aff.com\"],a[href^=\"https://myusenet.xyz/\"],div[data-subscript=\"Advertising\"],a[href^=\"https://intenseaffiliates.com/redirect/\"],[href^=\"https://affect3dnetwork.com/track/\"],a[href^=\"https://badoinkvr.com/\"],a[href^=\"http://webgirlz.online/landing/\"],[lazy-ad=\"lefttop_banner\"],[onclick*=\"content.ad/\"],a[href^=\"https://track.afftck.com/\"],a[href^=\"https://aff-ads.stickywilds.com/\"],a[href^=\"http://s5prou7ulr.com/\"],a[href^=\"http://www.pinkvisualgames.com/?revid=\"],a[href^=\"https://tracking.comfortclick.eu/\"],a[href^=\"https://weedzy.co.uk/\"][href*=\"&utm_\"],a[href=\"//rufflycouncil.com/\"],a[href^=\"https://www.adultempire.com/\"][href*=\"?partner_id=\"],[href^=\"https://t.ajrkm.link/\"],a[href^=\"http://tracking.deltamediallc.com/\"],a[href^=\"https://www.passeura.com/\"],a[href^=\"https://clickadilla.com/\"],a[href^=\"https://www.securegfm.com/\"],a[href^=\"https://affiliate.geekbuying.com/gkbaffiliate.php?\"],a[href^=\"https://trf.bannerator.com/\"],a[href^=\"http://websitedhoome.com/\"],a[href^=\"https://azpresearch.club/\"],[href^=\"https://zone.gotrackier.com/\"],a[href^=\"https://awecrptjmp.com/\"],a[href^=\"http://liversely.net/\"],a[href^=\"http://www.gamebookers.com/cgi-bin/intro.cgi?\"],a[href^=\"http://earandmarketing.com/\"],div[data-adservice-param-tagid=\"contentad\"],a[href^=\"http://www.firstclass-download.com/\"],a[href^=\"https://medleyads.com/\"],[href^=\"http://join.ts-dominopresley.com/\"],a[href^=\"http://keep2share.cc/pr/\"],div[class^=\"largeRectangleAd_\"],a[href^=\"https://blackorange.go2cloud.org/\"],a[href^=\"http://www.myfreepaysite.com/sfw.php?aid\"],[href^=\"https://mylead.global/stl/\"] > img,a[href^=\"https://fileboom.me/pr/\"],[href^=\"https://go.4rabettraff.com/\"],[href^=\"//mage98rquewz.com/\"],a[href^=\"http://www.easydownloadnow.com/\"],a[href^=\"https://bongacams2.com/track?\"],[lazy-ad=\"leftthin_banner\"],div[data-ad-underplayer],a[href^=\"http://pokershibes.com/index.php?ref=\"],a[href^=\"https://servedbyadbutler.com/\"],div[class^=\"pane-google-admanager-\"],a[href^=\"https://tracking.avapartner.com/\"],a[href^=\"http://mgid.com/\"],[data-ez-name],a[href^=\"https://flirtaescopa.com/\"],AD-TRIPLE-BOX,[class*=\"__adv-block\"],a-ad,div[class^=\"PreAd_\"],amp-fx-flying-carpet,a[href^=\"http://www.liutilities.com/\"],a[href^=\"https://promo-bc.com/\"],div[data-mpu1],a[href^=\"https://www.mrskin.com/account/\"],[id*=\"ScriptRoot\"],a[href^=\"https://rev.adsession.com/\"],[href^=\"https://www.restoro.com/\"],a[href^=\"https://www.iyalc.com/\"],a[href^=\"http://www.freefilesdownloader.com/\"],[href^=\"/ucdownload.php\"],a[href^=\"https://syndication.exoclick.com/\"],a[href^=\"http://tezfiles.com/pr/\"],a[href^=\"https://adultfriendfinder.com/go/page/landing\"],[href^=\"https://totlnkcl.com/\"],a[href^=\"http://www.coiwqe.site/\"],a[href^=\"https://go.nordvpn.net/aff\"] > img,a[href^=\"http://g1.v.fwmrm.net/ad/\"],a[href^=\"http://www.friendlyduck.com/AF_\"],a[href^=\"http://adtrackone.eu/\"],a[href^=\"http://campeeks.com/\"][href*=\"&utm_\"],a[href^=\"https://squren.com/rotator/?atomid=\"],a[href^=\"https://www.adskeeper.co.uk/\"],div[id^=\"js-dfp-\"],div[id^=\"code_ads_\"],a[href^=\"https://track.ultravpn.com/\"],a[href^=\"http://stateresolver.link/\"],a[href^=\"http://promos.bwin.com/\"],[href^=\"http://join.hardcoreshemalevideo.com/\"],a[href^=\"http://www.babylon.com/welcome/index?affID\"],a[href^=\"http://www.plus500.com/?id=\"],div[class^=\"adpubs-\"],a[href^=\"http://tour.mrskin.com/\"],div[id^=\"ad-position-\"],a[href^=\"https://fast-redirecting.com/\"],div[id^=\"sticky_ad_\"],a[href^=\"http://spygasm.com/track?\"],a[href^=\"https://chaturbate.com/in/?track=\"],div[class^=\"lifeOnwerAd\"],a[href^=\"https://billing.purevpn.com/aff.php\"] > img,a[href^=\"https://as.sexad.net/\"],a[href^=\"https://www.financeads.net/tc.php?\"],a[href*=\".zlink9.com/\"],a[href^=\"http://serve.williamhill.com/promoRedirect?\"],a[href^=\"http://c.ketads.com/\"],a[href^=\"http://bs.serving-sys.com/\"],a[href^=\"https://a.bestcontentfood.top/\"],a[href^=\"http://www.sexgangsters.com/?pid=\"],[href^=\"http://join.trannies-fuck.com/\"],div[data-spotim-slot],a[href^=\"http://www.friendlyadvertisements.com/\"],a[href^=\"http://adserver.adreactor.com/\"],a[href^=\"https://join.virtualtaboo.com/track/\"],a[href^=\"https://k2s.cc/pr/\"],[data-desktop-ad-id],a[href^=\"https://my-movie.club/\"],a[href^=\"http://www.roboform.com/php/land.php\"],a[href^=\"http://espn.zlbu.net/\"],[data-dynamic-ads],a[href^=\"http://latestdownloads.net/download.php?\"],a[href^=\"https://www.nudeidols.com/cams/\"],a[href^=\"https://americafirstpolls.com/\"],a[href^=\"https://see.kmisln.com/\"],a[href^=\"http://wct.link/\"],a[href^=\"http://cpaway.afftrack.com/\"],a[href^=\"https://land.rk.com/landing/\"] { display: none !important }</style>\n",
       "<div class=\"fancybox-overlay fancybox-overlay-fixed\" style=\"width: auto; height: auto; display: block;\"><div class=\"fancybox-wrap fancybox-desktop fancybox-type-image\" style=\"width: 670px; height: 380px; position: absolute; top: 253px; left: 121px; opacity: 0.101278; overflow: hidden;\" tabindex=\"-1\"><div class=\"fancybox-skin\" style=\"padding: 15px; width: auto; height: auto;\"><div class=\"fancybox-outer\"><div class=\"fancybox-inner\" style=\"overflow: visible; width: 640px; height: 350px;\"><img alt=\"\" class=\"fancybox-image\" src=\"image/featured/mars2.jpg\"/></div></div></div></div></div></body></html>"
      ]
     },
     "execution_count": 10,
     "metadata": {},
     "output_type": "execute_result"
    }
   ],
   "source": [
    "# Parse the resulting html with soup\n",
    "html = browser.html\n",
    "img_soup = soup(html, 'html.parser')\n",
    "img_soup"
   ]
  },
  {
   "cell_type": "code",
   "execution_count": 11,
   "metadata": {},
   "outputs": [
    {
     "data": {
      "text/plain": [
       "'image/featured/mars2.jpg'"
      ]
     },
     "execution_count": 11,
     "metadata": {},
     "output_type": "execute_result"
    }
   ],
   "source": [
    "# find the relative image url\n",
    "img_url_rel = img_soup.find('img', class_='fancybox-image').get('src')\n",
    "img_url_rel"
   ]
  },
  {
   "cell_type": "code",
   "execution_count": 12,
   "metadata": {},
   "outputs": [
    {
     "data": {
      "text/plain": [
       "'https://spaceimages-mars.com/image/featured/mars2.jpg'"
      ]
     },
     "execution_count": 12,
     "metadata": {},
     "output_type": "execute_result"
    }
   ],
   "source": [
    "# Use the base url to create an absolute url\n",
    "img_url = f'https://spaceimages-mars.com/{img_url_rel}'\n",
    "img_url"
   ]
  },
  {
   "cell_type": "markdown",
   "metadata": {},
   "source": [
    "### Mars Facts"
   ]
  },
  {
   "cell_type": "code",
   "execution_count": 13,
   "metadata": {},
   "outputs": [
    {
     "data": {
      "text/html": [
       "<div>\n",
       "<style scoped>\n",
       "    .dataframe tbody tr th:only-of-type {\n",
       "        vertical-align: middle;\n",
       "    }\n",
       "\n",
       "    .dataframe tbody tr th {\n",
       "        vertical-align: top;\n",
       "    }\n",
       "\n",
       "    .dataframe thead th {\n",
       "        text-align: right;\n",
       "    }\n",
       "</style>\n",
       "<table border=\"1\" class=\"dataframe\">\n",
       "  <thead>\n",
       "    <tr style=\"text-align: right;\">\n",
       "      <th></th>\n",
       "      <th>0</th>\n",
       "      <th>1</th>\n",
       "      <th>2</th>\n",
       "    </tr>\n",
       "  </thead>\n",
       "  <tbody>\n",
       "    <tr>\n",
       "      <th>0</th>\n",
       "      <td>Mars - Earth Comparison</td>\n",
       "      <td>Mars</td>\n",
       "      <td>Earth</td>\n",
       "    </tr>\n",
       "    <tr>\n",
       "      <th>1</th>\n",
       "      <td>Diameter:</td>\n",
       "      <td>6,779 km</td>\n",
       "      <td>12,742 km</td>\n",
       "    </tr>\n",
       "    <tr>\n",
       "      <th>2</th>\n",
       "      <td>Mass:</td>\n",
       "      <td>6.39 × 10^23 kg</td>\n",
       "      <td>5.97 × 10^24 kg</td>\n",
       "    </tr>\n",
       "    <tr>\n",
       "      <th>3</th>\n",
       "      <td>Moons:</td>\n",
       "      <td>2</td>\n",
       "      <td>1</td>\n",
       "    </tr>\n",
       "    <tr>\n",
       "      <th>4</th>\n",
       "      <td>Distance from Sun:</td>\n",
       "      <td>227,943,824 km</td>\n",
       "      <td>149,598,262 km</td>\n",
       "    </tr>\n",
       "  </tbody>\n",
       "</table>\n",
       "</div>"
      ],
      "text/plain": [
       "                         0                1                2\n",
       "0  Mars - Earth Comparison             Mars            Earth\n",
       "1                Diameter:         6,779 km        12,742 km\n",
       "2                    Mass:  6.39 × 10^23 kg  5.97 × 10^24 kg\n",
       "3                   Moons:                2                1\n",
       "4       Distance from Sun:   227,943,824 km   149,598,262 km"
      ]
     },
     "execution_count": 13,
     "metadata": {},
     "output_type": "execute_result"
    }
   ],
   "source": [
    "df = pd.read_html('https://galaxyfacts-mars.com')[0]\n",
    "df.head()"
   ]
  },
  {
   "cell_type": "code",
   "execution_count": 14,
   "metadata": {},
   "outputs": [
    {
     "data": {
      "text/html": [
       "<div>\n",
       "<style scoped>\n",
       "    .dataframe tbody tr th:only-of-type {\n",
       "        vertical-align: middle;\n",
       "    }\n",
       "\n",
       "    .dataframe tbody tr th {\n",
       "        vertical-align: top;\n",
       "    }\n",
       "\n",
       "    .dataframe thead th {\n",
       "        text-align: right;\n",
       "    }\n",
       "</style>\n",
       "<table border=\"1\" class=\"dataframe\">\n",
       "  <thead>\n",
       "    <tr style=\"text-align: right;\">\n",
       "      <th></th>\n",
       "      <th>Mars</th>\n",
       "      <th>Earth</th>\n",
       "    </tr>\n",
       "    <tr>\n",
       "      <th>Description</th>\n",
       "      <th></th>\n",
       "      <th></th>\n",
       "    </tr>\n",
       "  </thead>\n",
       "  <tbody>\n",
       "    <tr>\n",
       "      <th>Mars - Earth Comparison</th>\n",
       "      <td>Mars</td>\n",
       "      <td>Earth</td>\n",
       "    </tr>\n",
       "    <tr>\n",
       "      <th>Diameter:</th>\n",
       "      <td>6,779 km</td>\n",
       "      <td>12,742 km</td>\n",
       "    </tr>\n",
       "    <tr>\n",
       "      <th>Mass:</th>\n",
       "      <td>6.39 × 10^23 kg</td>\n",
       "      <td>5.97 × 10^24 kg</td>\n",
       "    </tr>\n",
       "    <tr>\n",
       "      <th>Moons:</th>\n",
       "      <td>2</td>\n",
       "      <td>1</td>\n",
       "    </tr>\n",
       "    <tr>\n",
       "      <th>Distance from Sun:</th>\n",
       "      <td>227,943,824 km</td>\n",
       "      <td>149,598,262 km</td>\n",
       "    </tr>\n",
       "    <tr>\n",
       "      <th>Length of Year:</th>\n",
       "      <td>687 Earth days</td>\n",
       "      <td>365.24 days</td>\n",
       "    </tr>\n",
       "    <tr>\n",
       "      <th>Temperature:</th>\n",
       "      <td>-87 to -5 °C</td>\n",
       "      <td>-88 to 58°C</td>\n",
       "    </tr>\n",
       "  </tbody>\n",
       "</table>\n",
       "</div>"
      ],
      "text/plain": [
       "                                    Mars            Earth\n",
       "Description                                              \n",
       "Mars - Earth Comparison             Mars            Earth\n",
       "Diameter:                       6,779 km        12,742 km\n",
       "Mass:                    6.39 × 10^23 kg  5.97 × 10^24 kg\n",
       "Moons:                                 2                1\n",
       "Distance from Sun:        227,943,824 km   149,598,262 km\n",
       "Length of Year:           687 Earth days      365.24 days\n",
       "Temperature:                -87 to -5 °C      -88 to 58°C"
      ]
     },
     "execution_count": 14,
     "metadata": {},
     "output_type": "execute_result"
    }
   ],
   "source": [
    "df.columns=['Description', 'Mars', 'Earth']\n",
    "df.set_index('Description', inplace=True)\n",
    "df"
   ]
  },
  {
   "cell_type": "code",
   "execution_count": 15,
   "metadata": {},
   "outputs": [
    {
     "data": {
      "text/plain": [
       "'<table border=\"1\" class=\"dataframe\">\\n  <thead>\\n    <tr style=\"text-align: right;\">\\n      <th></th>\\n      <th>Mars</th>\\n      <th>Earth</th>\\n    </tr>\\n    <tr>\\n      <th>Description</th>\\n      <th></th>\\n      <th></th>\\n    </tr>\\n  </thead>\\n  <tbody>\\n    <tr>\\n      <th>Mars - Earth Comparison</th>\\n      <td>Mars</td>\\n      <td>Earth</td>\\n    </tr>\\n    <tr>\\n      <th>Diameter:</th>\\n      <td>6,779 km</td>\\n      <td>12,742 km</td>\\n    </tr>\\n    <tr>\\n      <th>Mass:</th>\\n      <td>6.39 × 10^23 kg</td>\\n      <td>5.97 × 10^24 kg</td>\\n    </tr>\\n    <tr>\\n      <th>Moons:</th>\\n      <td>2</td>\\n      <td>1</td>\\n    </tr>\\n    <tr>\\n      <th>Distance from Sun:</th>\\n      <td>227,943,824 km</td>\\n      <td>149,598,262 km</td>\\n    </tr>\\n    <tr>\\n      <th>Length of Year:</th>\\n      <td>687 Earth days</td>\\n      <td>365.24 days</td>\\n    </tr>\\n    <tr>\\n      <th>Temperature:</th>\\n      <td>-87 to -5 °C</td>\\n      <td>-88 to 58°C</td>\\n    </tr>\\n  </tbody>\\n</table>'"
      ]
     },
     "execution_count": 15,
     "metadata": {},
     "output_type": "execute_result"
    }
   ],
   "source": [
    "df.to_html()"
   ]
  },
  {
   "cell_type": "markdown",
   "metadata": {},
   "source": [
    "# D1: Scrape High-Resolution Mars’ Hemisphere Images and Titles"
   ]
  },
  {
   "cell_type": "markdown",
   "metadata": {},
   "source": [
    "### Hemispheres"
   ]
  },
  {
   "cell_type": "code",
   "execution_count": 73,
   "metadata": {},
   "outputs": [],
   "source": [
    "# 1. Use browser to visit the URL \n",
    "url = 'https://astrogeology.usgs.gov/search/results?q=hemisphere+enhanced&k1=target&v1=Mars'\n",
    "\n",
    "browser.visit(url)\n",
    "\n",
    "html = browser.html\n",
    "img_soup = soup(html, 'html.parser')"
   ]
  },
  {
   "cell_type": "code",
   "execution_count": 74,
   "metadata": {},
   "outputs": [],
   "source": [
    "html = browser.html\n",
    "img_soup = soup(html, 'html.parser')"
   ]
  },
  {
   "cell_type": "code",
   "execution_count": 84,
   "metadata": {},
   "outputs": [
    {
     "name": "stdout",
     "output_type": "stream",
     "text": [
      "['https://astrogeology.usgs.gov/cache/images/39d3266553462198bd2fbc4d18fbed17_cerberus_enhanced.tif_thumb.png', 'https://astrogeology.usgs.gov/cache/images/08eac6e22c07fb1fe72223a79252de20_schiaparelli_enhanced.tif_thumb.png', 'https://astrogeology.usgs.gov/cache/images/55a0a1e2796313fdeafb17c35925e8ac_syrtis_major_enhanced.tif_thumb.png', 'https://astrogeology.usgs.gov/cache/images/4e59980c1c57f89c680c0e1ccabbeff1_valles_marineris_enhanced.tif_thumb.png']\n"
     ]
    }
   ],
   "source": [
    "# 2. Create a list to hold the images and titles.\n",
    "hemisphere_image_urls = []\n",
    "\n",
    "# 3. Write code to retrieve the image urls and titles for each hemisphere.\n",
    "image = browser.find_by_tag('img.thumb')\n",
    "\n",
    "#img = image.find_by_value('src').text\n",
    "for img in image:\n",
    "    images = img['src']\n",
    "    hemisphere_image_urls.append(images)\n",
    "print(hemisphere_image_urls)\n",
    "\n",
    "# what I tried initially beautifulsoup wasn't working out so hot\n",
    "#images = img_soup.find_all('img')\n",
    "# for i in range(len(images)):\n",
    "#     print(images[i])\n",
    "#     img = images[i].get_text('img')\n",
    "    #print(img)\n",
    "    #hemisphere_image_urls.append(img)\n"
   ]
  },
  {
   "cell_type": "code",
   "execution_count": 18,
   "metadata": {},
   "outputs": [
    {
     "data": {
      "text/plain": [
       "[]"
      ]
     },
     "execution_count": 18,
     "metadata": {},
     "output_type": "execute_result"
    }
   ],
   "source": [
    "# 4. Print the list that holds the dictionary of each image url and title.\n",
    "hemisphere_image_urls"
   ]
  },
  {
   "cell_type": "code",
   "execution_count": 19,
   "metadata": {},
   "outputs": [],
   "source": [
    "# 5. Quit the browser\n",
    "browser.quit()"
   ]
  },
  {
   "cell_type": "code",
   "execution_count": null,
   "metadata": {},
   "outputs": [],
   "source": []
  }
 ],
 "metadata": {
  "kernelspec": {
   "display_name": "PythonData",
   "language": "python",
   "name": "pythondata"
  },
  "language_info": {
   "codemirror_mode": {
    "name": "ipython",
    "version": 3
   },
   "file_extension": ".py",
   "mimetype": "text/x-python",
   "name": "python",
   "nbconvert_exporter": "python",
   "pygments_lexer": "ipython3",
   "version": "3.7.11"
  },
  "nteract": {
   "version": "0.15.0"
  }
 },
 "nbformat": 4,
 "nbformat_minor": 4
}
